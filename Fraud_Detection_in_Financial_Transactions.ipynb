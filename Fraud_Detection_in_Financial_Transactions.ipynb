{
 "cells": [
  {
   "cell_type": "code",
   "execution_count": 118,
   "id": "c0e65121",
   "metadata": {},
   "outputs": [],
   "source": [
    "import numpy as np\n",
    "import pandas as pd\n",
    "import seaborn as sns\n",
    "from matplotlib import pyplot as plt\n",
    "\n",
    "from collections import Counter\n",
    "\n",
    "%matplotlib inline"
   ]
  },
  {
   "cell_type": "code",
   "execution_count": 119,
   "id": "1ee9df5d",
   "metadata": {},
   "outputs": [],
   "source": [
    "data= pd.read_csv(\"C:\\\\Users\\\\Ananya Nayak\\\\Downloads\\\\Fraud.csv\")"
   ]
  },
  {
   "cell_type": "code",
   "execution_count": 120,
   "id": "14da49cd",
   "metadata": {},
   "outputs": [
    {
     "data": {
      "text/plain": [
       "(6362620, 11)"
      ]
     },
     "execution_count": 120,
     "metadata": {},
     "output_type": "execute_result"
    }
   ],
   "source": [
    "data.shape"
   ]
  },
  {
   "cell_type": "code",
   "execution_count": 121,
   "id": "769b3655",
   "metadata": {},
   "outputs": [
    {
     "data": {
      "text/html": [
       "<div>\n",
       "<style scoped>\n",
       "    .dataframe tbody tr th:only-of-type {\n",
       "        vertical-align: middle;\n",
       "    }\n",
       "\n",
       "    .dataframe tbody tr th {\n",
       "        vertical-align: top;\n",
       "    }\n",
       "\n",
       "    .dataframe thead th {\n",
       "        text-align: right;\n",
       "    }\n",
       "</style>\n",
       "<table border=\"1\" class=\"dataframe\">\n",
       "  <thead>\n",
       "    <tr style=\"text-align: right;\">\n",
       "      <th></th>\n",
       "      <th>step</th>\n",
       "      <th>type</th>\n",
       "      <th>amount</th>\n",
       "      <th>nameOrig</th>\n",
       "      <th>oldbalanceOrg</th>\n",
       "      <th>newbalanceOrig</th>\n",
       "      <th>nameDest</th>\n",
       "      <th>oldbalanceDest</th>\n",
       "      <th>newbalanceDest</th>\n",
       "      <th>isFraud</th>\n",
       "      <th>isFlaggedFraud</th>\n",
       "    </tr>\n",
       "  </thead>\n",
       "  <tbody>\n",
       "    <tr>\n",
       "      <th>0</th>\n",
       "      <td>1</td>\n",
       "      <td>PAYMENT</td>\n",
       "      <td>9839.64</td>\n",
       "      <td>C1231006815</td>\n",
       "      <td>170136.0</td>\n",
       "      <td>160296.36</td>\n",
       "      <td>M1979787155</td>\n",
       "      <td>0.0</td>\n",
       "      <td>0.0</td>\n",
       "      <td>0</td>\n",
       "      <td>0</td>\n",
       "    </tr>\n",
       "    <tr>\n",
       "      <th>1</th>\n",
       "      <td>1</td>\n",
       "      <td>PAYMENT</td>\n",
       "      <td>1864.28</td>\n",
       "      <td>C1666544295</td>\n",
       "      <td>21249.0</td>\n",
       "      <td>19384.72</td>\n",
       "      <td>M2044282225</td>\n",
       "      <td>0.0</td>\n",
       "      <td>0.0</td>\n",
       "      <td>0</td>\n",
       "      <td>0</td>\n",
       "    </tr>\n",
       "    <tr>\n",
       "      <th>2</th>\n",
       "      <td>1</td>\n",
       "      <td>TRANSFER</td>\n",
       "      <td>181.00</td>\n",
       "      <td>C1305486145</td>\n",
       "      <td>181.0</td>\n",
       "      <td>0.00</td>\n",
       "      <td>C553264065</td>\n",
       "      <td>0.0</td>\n",
       "      <td>0.0</td>\n",
       "      <td>1</td>\n",
       "      <td>0</td>\n",
       "    </tr>\n",
       "    <tr>\n",
       "      <th>3</th>\n",
       "      <td>1</td>\n",
       "      <td>CASH_OUT</td>\n",
       "      <td>181.00</td>\n",
       "      <td>C840083671</td>\n",
       "      <td>181.0</td>\n",
       "      <td>0.00</td>\n",
       "      <td>C38997010</td>\n",
       "      <td>21182.0</td>\n",
       "      <td>0.0</td>\n",
       "      <td>1</td>\n",
       "      <td>0</td>\n",
       "    </tr>\n",
       "    <tr>\n",
       "      <th>4</th>\n",
       "      <td>1</td>\n",
       "      <td>PAYMENT</td>\n",
       "      <td>11668.14</td>\n",
       "      <td>C2048537720</td>\n",
       "      <td>41554.0</td>\n",
       "      <td>29885.86</td>\n",
       "      <td>M1230701703</td>\n",
       "      <td>0.0</td>\n",
       "      <td>0.0</td>\n",
       "      <td>0</td>\n",
       "      <td>0</td>\n",
       "    </tr>\n",
       "  </tbody>\n",
       "</table>\n",
       "</div>"
      ],
      "text/plain": [
       "   step      type    amount     nameOrig  oldbalanceOrg  newbalanceOrig  \\\n",
       "0     1   PAYMENT   9839.64  C1231006815       170136.0       160296.36   \n",
       "1     1   PAYMENT   1864.28  C1666544295        21249.0        19384.72   \n",
       "2     1  TRANSFER    181.00  C1305486145          181.0            0.00   \n",
       "3     1  CASH_OUT    181.00   C840083671          181.0            0.00   \n",
       "4     1   PAYMENT  11668.14  C2048537720        41554.0        29885.86   \n",
       "\n",
       "      nameDest  oldbalanceDest  newbalanceDest  isFraud  isFlaggedFraud  \n",
       "0  M1979787155             0.0             0.0        0               0  \n",
       "1  M2044282225             0.0             0.0        0               0  \n",
       "2   C553264065             0.0             0.0        1               0  \n",
       "3    C38997010         21182.0             0.0        1               0  \n",
       "4  M1230701703             0.0             0.0        0               0  "
      ]
     },
     "execution_count": 121,
     "metadata": {},
     "output_type": "execute_result"
    }
   ],
   "source": [
    "data.head()"
   ]
  },
  {
   "cell_type": "code",
   "execution_count": 122,
   "id": "1d1841f7",
   "metadata": {},
   "outputs": [
    {
     "data": {
      "text/plain": [
       "Index(['step', 'type', 'amount', 'nameOrig', 'oldbalanceOrg', 'newbalanceOrig',\n",
       "       'nameDest', 'oldbalanceDest', 'newbalanceDest', 'isFraud',\n",
       "       'isFlaggedFraud'],\n",
       "      dtype='object')"
      ]
     },
     "execution_count": 122,
     "metadata": {},
     "output_type": "execute_result"
    }
   ],
   "source": [
    "data.columns"
   ]
  },
  {
   "cell_type": "code",
   "execution_count": 123,
   "id": "52615a06",
   "metadata": {},
   "outputs": [
    {
     "name": "stdout",
     "output_type": "stream",
     "text": [
      "<class 'pandas.core.frame.DataFrame'>\n",
      "RangeIndex: 6362620 entries, 0 to 6362619\n",
      "Data columns (total 11 columns):\n",
      " #   Column          Dtype  \n",
      "---  ------          -----  \n",
      " 0   step            int64  \n",
      " 1   type            object \n",
      " 2   amount          float64\n",
      " 3   nameOrig        object \n",
      " 4   oldbalanceOrg   float64\n",
      " 5   newbalanceOrig  float64\n",
      " 6   nameDest        object \n",
      " 7   oldbalanceDest  float64\n",
      " 8   newbalanceDest  float64\n",
      " 9   isFraud         int64  \n",
      " 10  isFlaggedFraud  int64  \n",
      "dtypes: float64(5), int64(3), object(3)\n",
      "memory usage: 534.0+ MB\n"
     ]
    }
   ],
   "source": [
    "data.info()"
   ]
  },
  {
   "cell_type": "code",
   "execution_count": 124,
   "id": "ca087590",
   "metadata": {},
   "outputs": [
    {
     "data": {
      "text/plain": [
       "step              0\n",
       "type              0\n",
       "amount            0\n",
       "nameOrig          0\n",
       "oldbalanceOrg     0\n",
       "newbalanceOrig    0\n",
       "nameDest          0\n",
       "oldbalanceDest    0\n",
       "newbalanceDest    0\n",
       "isFraud           0\n",
       "isFlaggedFraud    0\n",
       "dtype: int64"
      ]
     },
     "execution_count": 124,
     "metadata": {},
     "output_type": "execute_result"
    }
   ],
   "source": [
    "data.isnull().sum()"
   ]
  },
  {
   "cell_type": "markdown",
   "id": "4bde253d",
   "metadata": {},
   "source": [
    "* There is no missing values"
   ]
  },
  {
   "cell_type": "code",
   "execution_count": 125,
   "id": "92919892",
   "metadata": {},
   "outputs": [
    {
     "data": {
      "text/plain": [
       "array(['PAYMENT', 'TRANSFER', 'CASH_OUT', 'DEBIT', 'CASH_IN'],\n",
       "      dtype=object)"
      ]
     },
     "execution_count": 125,
     "metadata": {},
     "output_type": "execute_result"
    }
   ],
   "source": [
    "data['type'].unique()"
   ]
  },
  {
   "cell_type": "code",
   "execution_count": 126,
   "id": "c0314ac0",
   "metadata": {},
   "outputs": [],
   "source": [
    "type=data['type'].value_counts()"
   ]
  },
  {
   "cell_type": "code",
   "execution_count": 127,
   "id": "a3cf24bf",
   "metadata": {},
   "outputs": [],
   "source": [
    "transaction=type.index"
   ]
  },
  {
   "cell_type": "code",
   "execution_count": 128,
   "id": "de9ee173",
   "metadata": {},
   "outputs": [],
   "source": [
    "quantity=type.values"
   ]
  },
  {
   "cell_type": "code",
   "execution_count": 129,
   "id": "1695693e",
   "metadata": {},
   "outputs": [],
   "source": [
    "import plotly.express as px"
   ]
  },
  {
   "cell_type": "code",
   "execution_count": 130,
   "id": "677a2716",
   "metadata": {},
   "outputs": [
    {
     "data": {
      "application/vnd.plotly.v1+json": {
       "config": {
        "plotlyServerURL": "https://plot.ly"
       },
       "data": [
        {
         "domain": {
          "x": [
           0,
           1
          ],
          "y": [
           0,
           1
          ]
         },
         "hole": 0.4,
         "hovertemplate": "label=%{label}<br>value=%{value}<extra></extra>",
         "labels": [
          "CASH_OUT",
          "PAYMENT",
          "CASH_IN",
          "TRANSFER",
          "DEBIT"
         ],
         "legendgroup": "",
         "name": "",
         "showlegend": true,
         "type": "pie",
         "values": [
          2237500,
          2151495,
          1399284,
          532909,
          41432
         ]
        }
       ],
       "layout": {
        "legend": {
         "tracegroupgap": 0
        },
        "template": {
         "data": {
          "bar": [
           {
            "error_x": {
             "color": "#2a3f5f"
            },
            "error_y": {
             "color": "#2a3f5f"
            },
            "marker": {
             "line": {
              "color": "#E5ECF6",
              "width": 0.5
             },
             "pattern": {
              "fillmode": "overlay",
              "size": 10,
              "solidity": 0.2
             }
            },
            "type": "bar"
           }
          ],
          "barpolar": [
           {
            "marker": {
             "line": {
              "color": "#E5ECF6",
              "width": 0.5
             },
             "pattern": {
              "fillmode": "overlay",
              "size": 10,
              "solidity": 0.2
             }
            },
            "type": "barpolar"
           }
          ],
          "carpet": [
           {
            "aaxis": {
             "endlinecolor": "#2a3f5f",
             "gridcolor": "white",
             "linecolor": "white",
             "minorgridcolor": "white",
             "startlinecolor": "#2a3f5f"
            },
            "baxis": {
             "endlinecolor": "#2a3f5f",
             "gridcolor": "white",
             "linecolor": "white",
             "minorgridcolor": "white",
             "startlinecolor": "#2a3f5f"
            },
            "type": "carpet"
           }
          ],
          "choropleth": [
           {
            "colorbar": {
             "outlinewidth": 0,
             "ticks": ""
            },
            "type": "choropleth"
           }
          ],
          "contour": [
           {
            "colorbar": {
             "outlinewidth": 0,
             "ticks": ""
            },
            "colorscale": [
             [
              0,
              "#0d0887"
             ],
             [
              0.1111111111111111,
              "#46039f"
             ],
             [
              0.2222222222222222,
              "#7201a8"
             ],
             [
              0.3333333333333333,
              "#9c179e"
             ],
             [
              0.4444444444444444,
              "#bd3786"
             ],
             [
              0.5555555555555556,
              "#d8576b"
             ],
             [
              0.6666666666666666,
              "#ed7953"
             ],
             [
              0.7777777777777778,
              "#fb9f3a"
             ],
             [
              0.8888888888888888,
              "#fdca26"
             ],
             [
              1,
              "#f0f921"
             ]
            ],
            "type": "contour"
           }
          ],
          "contourcarpet": [
           {
            "colorbar": {
             "outlinewidth": 0,
             "ticks": ""
            },
            "type": "contourcarpet"
           }
          ],
          "heatmap": [
           {
            "colorbar": {
             "outlinewidth": 0,
             "ticks": ""
            },
            "colorscale": [
             [
              0,
              "#0d0887"
             ],
             [
              0.1111111111111111,
              "#46039f"
             ],
             [
              0.2222222222222222,
              "#7201a8"
             ],
             [
              0.3333333333333333,
              "#9c179e"
             ],
             [
              0.4444444444444444,
              "#bd3786"
             ],
             [
              0.5555555555555556,
              "#d8576b"
             ],
             [
              0.6666666666666666,
              "#ed7953"
             ],
             [
              0.7777777777777778,
              "#fb9f3a"
             ],
             [
              0.8888888888888888,
              "#fdca26"
             ],
             [
              1,
              "#f0f921"
             ]
            ],
            "type": "heatmap"
           }
          ],
          "heatmapgl": [
           {
            "colorbar": {
             "outlinewidth": 0,
             "ticks": ""
            },
            "colorscale": [
             [
              0,
              "#0d0887"
             ],
             [
              0.1111111111111111,
              "#46039f"
             ],
             [
              0.2222222222222222,
              "#7201a8"
             ],
             [
              0.3333333333333333,
              "#9c179e"
             ],
             [
              0.4444444444444444,
              "#bd3786"
             ],
             [
              0.5555555555555556,
              "#d8576b"
             ],
             [
              0.6666666666666666,
              "#ed7953"
             ],
             [
              0.7777777777777778,
              "#fb9f3a"
             ],
             [
              0.8888888888888888,
              "#fdca26"
             ],
             [
              1,
              "#f0f921"
             ]
            ],
            "type": "heatmapgl"
           }
          ],
          "histogram": [
           {
            "marker": {
             "pattern": {
              "fillmode": "overlay",
              "size": 10,
              "solidity": 0.2
             }
            },
            "type": "histogram"
           }
          ],
          "histogram2d": [
           {
            "colorbar": {
             "outlinewidth": 0,
             "ticks": ""
            },
            "colorscale": [
             [
              0,
              "#0d0887"
             ],
             [
              0.1111111111111111,
              "#46039f"
             ],
             [
              0.2222222222222222,
              "#7201a8"
             ],
             [
              0.3333333333333333,
              "#9c179e"
             ],
             [
              0.4444444444444444,
              "#bd3786"
             ],
             [
              0.5555555555555556,
              "#d8576b"
             ],
             [
              0.6666666666666666,
              "#ed7953"
             ],
             [
              0.7777777777777778,
              "#fb9f3a"
             ],
             [
              0.8888888888888888,
              "#fdca26"
             ],
             [
              1,
              "#f0f921"
             ]
            ],
            "type": "histogram2d"
           }
          ],
          "histogram2dcontour": [
           {
            "colorbar": {
             "outlinewidth": 0,
             "ticks": ""
            },
            "colorscale": [
             [
              0,
              "#0d0887"
             ],
             [
              0.1111111111111111,
              "#46039f"
             ],
             [
              0.2222222222222222,
              "#7201a8"
             ],
             [
              0.3333333333333333,
              "#9c179e"
             ],
             [
              0.4444444444444444,
              "#bd3786"
             ],
             [
              0.5555555555555556,
              "#d8576b"
             ],
             [
              0.6666666666666666,
              "#ed7953"
             ],
             [
              0.7777777777777778,
              "#fb9f3a"
             ],
             [
              0.8888888888888888,
              "#fdca26"
             ],
             [
              1,
              "#f0f921"
             ]
            ],
            "type": "histogram2dcontour"
           }
          ],
          "mesh3d": [
           {
            "colorbar": {
             "outlinewidth": 0,
             "ticks": ""
            },
            "type": "mesh3d"
           }
          ],
          "parcoords": [
           {
            "line": {
             "colorbar": {
              "outlinewidth": 0,
              "ticks": ""
             }
            },
            "type": "parcoords"
           }
          ],
          "pie": [
           {
            "automargin": true,
            "type": "pie"
           }
          ],
          "scatter": [
           {
            "fillpattern": {
             "fillmode": "overlay",
             "size": 10,
             "solidity": 0.2
            },
            "type": "scatter"
           }
          ],
          "scatter3d": [
           {
            "line": {
             "colorbar": {
              "outlinewidth": 0,
              "ticks": ""
             }
            },
            "marker": {
             "colorbar": {
              "outlinewidth": 0,
              "ticks": ""
             }
            },
            "type": "scatter3d"
           }
          ],
          "scattercarpet": [
           {
            "marker": {
             "colorbar": {
              "outlinewidth": 0,
              "ticks": ""
             }
            },
            "type": "scattercarpet"
           }
          ],
          "scattergeo": [
           {
            "marker": {
             "colorbar": {
              "outlinewidth": 0,
              "ticks": ""
             }
            },
            "type": "scattergeo"
           }
          ],
          "scattergl": [
           {
            "marker": {
             "colorbar": {
              "outlinewidth": 0,
              "ticks": ""
             }
            },
            "type": "scattergl"
           }
          ],
          "scattermapbox": [
           {
            "marker": {
             "colorbar": {
              "outlinewidth": 0,
              "ticks": ""
             }
            },
            "type": "scattermapbox"
           }
          ],
          "scatterpolar": [
           {
            "marker": {
             "colorbar": {
              "outlinewidth": 0,
              "ticks": ""
             }
            },
            "type": "scatterpolar"
           }
          ],
          "scatterpolargl": [
           {
            "marker": {
             "colorbar": {
              "outlinewidth": 0,
              "ticks": ""
             }
            },
            "type": "scatterpolargl"
           }
          ],
          "scatterternary": [
           {
            "marker": {
             "colorbar": {
              "outlinewidth": 0,
              "ticks": ""
             }
            },
            "type": "scatterternary"
           }
          ],
          "surface": [
           {
            "colorbar": {
             "outlinewidth": 0,
             "ticks": ""
            },
            "colorscale": [
             [
              0,
              "#0d0887"
             ],
             [
              0.1111111111111111,
              "#46039f"
             ],
             [
              0.2222222222222222,
              "#7201a8"
             ],
             [
              0.3333333333333333,
              "#9c179e"
             ],
             [
              0.4444444444444444,
              "#bd3786"
             ],
             [
              0.5555555555555556,
              "#d8576b"
             ],
             [
              0.6666666666666666,
              "#ed7953"
             ],
             [
              0.7777777777777778,
              "#fb9f3a"
             ],
             [
              0.8888888888888888,
              "#fdca26"
             ],
             [
              1,
              "#f0f921"
             ]
            ],
            "type": "surface"
           }
          ],
          "table": [
           {
            "cells": {
             "fill": {
              "color": "#EBF0F8"
             },
             "line": {
              "color": "white"
             }
            },
            "header": {
             "fill": {
              "color": "#C8D4E3"
             },
             "line": {
              "color": "white"
             }
            },
            "type": "table"
           }
          ]
         },
         "layout": {
          "annotationdefaults": {
           "arrowcolor": "#2a3f5f",
           "arrowhead": 0,
           "arrowwidth": 1
          },
          "autotypenumbers": "strict",
          "coloraxis": {
           "colorbar": {
            "outlinewidth": 0,
            "ticks": ""
           }
          },
          "colorscale": {
           "diverging": [
            [
             0,
             "#8e0152"
            ],
            [
             0.1,
             "#c51b7d"
            ],
            [
             0.2,
             "#de77ae"
            ],
            [
             0.3,
             "#f1b6da"
            ],
            [
             0.4,
             "#fde0ef"
            ],
            [
             0.5,
             "#f7f7f7"
            ],
            [
             0.6,
             "#e6f5d0"
            ],
            [
             0.7,
             "#b8e186"
            ],
            [
             0.8,
             "#7fbc41"
            ],
            [
             0.9,
             "#4d9221"
            ],
            [
             1,
             "#276419"
            ]
           ],
           "sequential": [
            [
             0,
             "#0d0887"
            ],
            [
             0.1111111111111111,
             "#46039f"
            ],
            [
             0.2222222222222222,
             "#7201a8"
            ],
            [
             0.3333333333333333,
             "#9c179e"
            ],
            [
             0.4444444444444444,
             "#bd3786"
            ],
            [
             0.5555555555555556,
             "#d8576b"
            ],
            [
             0.6666666666666666,
             "#ed7953"
            ],
            [
             0.7777777777777778,
             "#fb9f3a"
            ],
            [
             0.8888888888888888,
             "#fdca26"
            ],
            [
             1,
             "#f0f921"
            ]
           ],
           "sequentialminus": [
            [
             0,
             "#0d0887"
            ],
            [
             0.1111111111111111,
             "#46039f"
            ],
            [
             0.2222222222222222,
             "#7201a8"
            ],
            [
             0.3333333333333333,
             "#9c179e"
            ],
            [
             0.4444444444444444,
             "#bd3786"
            ],
            [
             0.5555555555555556,
             "#d8576b"
            ],
            [
             0.6666666666666666,
             "#ed7953"
            ],
            [
             0.7777777777777778,
             "#fb9f3a"
            ],
            [
             0.8888888888888888,
             "#fdca26"
            ],
            [
             1,
             "#f0f921"
            ]
           ]
          },
          "colorway": [
           "#636efa",
           "#EF553B",
           "#00cc96",
           "#ab63fa",
           "#FFA15A",
           "#19d3f3",
           "#FF6692",
           "#B6E880",
           "#FF97FF",
           "#FECB52"
          ],
          "font": {
           "color": "#2a3f5f"
          },
          "geo": {
           "bgcolor": "white",
           "lakecolor": "white",
           "landcolor": "#E5ECF6",
           "showlakes": true,
           "showland": true,
           "subunitcolor": "white"
          },
          "hoverlabel": {
           "align": "left"
          },
          "hovermode": "closest",
          "mapbox": {
           "style": "light"
          },
          "paper_bgcolor": "white",
          "plot_bgcolor": "#E5ECF6",
          "polar": {
           "angularaxis": {
            "gridcolor": "white",
            "linecolor": "white",
            "ticks": ""
           },
           "bgcolor": "#E5ECF6",
           "radialaxis": {
            "gridcolor": "white",
            "linecolor": "white",
            "ticks": ""
           }
          },
          "scene": {
           "xaxis": {
            "backgroundcolor": "#E5ECF6",
            "gridcolor": "white",
            "gridwidth": 2,
            "linecolor": "white",
            "showbackground": true,
            "ticks": "",
            "zerolinecolor": "white"
           },
           "yaxis": {
            "backgroundcolor": "#E5ECF6",
            "gridcolor": "white",
            "gridwidth": 2,
            "linecolor": "white",
            "showbackground": true,
            "ticks": "",
            "zerolinecolor": "white"
           },
           "zaxis": {
            "backgroundcolor": "#E5ECF6",
            "gridcolor": "white",
            "gridwidth": 2,
            "linecolor": "white",
            "showbackground": true,
            "ticks": "",
            "zerolinecolor": "white"
           }
          },
          "shapedefaults": {
           "line": {
            "color": "#2a3f5f"
           }
          },
          "ternary": {
           "aaxis": {
            "gridcolor": "white",
            "linecolor": "white",
            "ticks": ""
           },
           "baxis": {
            "gridcolor": "white",
            "linecolor": "white",
            "ticks": ""
           },
           "bgcolor": "#E5ECF6",
           "caxis": {
            "gridcolor": "white",
            "linecolor": "white",
            "ticks": ""
           }
          },
          "title": {
           "x": 0.05
          },
          "xaxis": {
           "automargin": true,
           "gridcolor": "white",
           "linecolor": "white",
           "ticks": "",
           "title": {
            "standoff": 15
           },
           "zerolinecolor": "white",
           "zerolinewidth": 2
          },
          "yaxis": {
           "automargin": true,
           "gridcolor": "white",
           "linecolor": "white",
           "ticks": "",
           "title": {
            "standoff": 15
           },
           "zerolinecolor": "white",
           "zerolinewidth": 2
          }
         }
        },
        "title": {
         "text": "Distribution of transaction type"
        }
       }
      },
      "text/html": [
       "<div>                            <div id=\"45397474-af90-43e5-b652-0a6477df6b15\" class=\"plotly-graph-div\" style=\"height:525px; width:100%;\"></div>            <script type=\"text/javascript\">                require([\"plotly\"], function(Plotly) {                    window.PLOTLYENV=window.PLOTLYENV || {};                                    if (document.getElementById(\"45397474-af90-43e5-b652-0a6477df6b15\")) {                    Plotly.newPlot(                        \"45397474-af90-43e5-b652-0a6477df6b15\",                        [{\"domain\":{\"x\":[0.0,1.0],\"y\":[0.0,1.0]},\"hole\":0.4,\"hovertemplate\":\"label=%{label}<br>value=%{value}<extra></extra>\",\"labels\":[\"CASH_OUT\",\"PAYMENT\",\"CASH_IN\",\"TRANSFER\",\"DEBIT\"],\"legendgroup\":\"\",\"name\":\"\",\"showlegend\":true,\"values\":[2237500,2151495,1399284,532909,41432],\"type\":\"pie\"}],                        {\"template\":{\"data\":{\"histogram2dcontour\":[{\"type\":\"histogram2dcontour\",\"colorbar\":{\"outlinewidth\":0,\"ticks\":\"\"},\"colorscale\":[[0.0,\"#0d0887\"],[0.1111111111111111,\"#46039f\"],[0.2222222222222222,\"#7201a8\"],[0.3333333333333333,\"#9c179e\"],[0.4444444444444444,\"#bd3786\"],[0.5555555555555556,\"#d8576b\"],[0.6666666666666666,\"#ed7953\"],[0.7777777777777778,\"#fb9f3a\"],[0.8888888888888888,\"#fdca26\"],[1.0,\"#f0f921\"]]}],\"choropleth\":[{\"type\":\"choropleth\",\"colorbar\":{\"outlinewidth\":0,\"ticks\":\"\"}}],\"histogram2d\":[{\"type\":\"histogram2d\",\"colorbar\":{\"outlinewidth\":0,\"ticks\":\"\"},\"colorscale\":[[0.0,\"#0d0887\"],[0.1111111111111111,\"#46039f\"],[0.2222222222222222,\"#7201a8\"],[0.3333333333333333,\"#9c179e\"],[0.4444444444444444,\"#bd3786\"],[0.5555555555555556,\"#d8576b\"],[0.6666666666666666,\"#ed7953\"],[0.7777777777777778,\"#fb9f3a\"],[0.8888888888888888,\"#fdca26\"],[1.0,\"#f0f921\"]]}],\"heatmap\":[{\"type\":\"heatmap\",\"colorbar\":{\"outlinewidth\":0,\"ticks\":\"\"},\"colorscale\":[[0.0,\"#0d0887\"],[0.1111111111111111,\"#46039f\"],[0.2222222222222222,\"#7201a8\"],[0.3333333333333333,\"#9c179e\"],[0.4444444444444444,\"#bd3786\"],[0.5555555555555556,\"#d8576b\"],[0.6666666666666666,\"#ed7953\"],[0.7777777777777778,\"#fb9f3a\"],[0.8888888888888888,\"#fdca26\"],[1.0,\"#f0f921\"]]}],\"heatmapgl\":[{\"type\":\"heatmapgl\",\"colorbar\":{\"outlinewidth\":0,\"ticks\":\"\"},\"colorscale\":[[0.0,\"#0d0887\"],[0.1111111111111111,\"#46039f\"],[0.2222222222222222,\"#7201a8\"],[0.3333333333333333,\"#9c179e\"],[0.4444444444444444,\"#bd3786\"],[0.5555555555555556,\"#d8576b\"],[0.6666666666666666,\"#ed7953\"],[0.7777777777777778,\"#fb9f3a\"],[0.8888888888888888,\"#fdca26\"],[1.0,\"#f0f921\"]]}],\"contourcarpet\":[{\"type\":\"contourcarpet\",\"colorbar\":{\"outlinewidth\":0,\"ticks\":\"\"}}],\"contour\":[{\"type\":\"contour\",\"colorbar\":{\"outlinewidth\":0,\"ticks\":\"\"},\"colorscale\":[[0.0,\"#0d0887\"],[0.1111111111111111,\"#46039f\"],[0.2222222222222222,\"#7201a8\"],[0.3333333333333333,\"#9c179e\"],[0.4444444444444444,\"#bd3786\"],[0.5555555555555556,\"#d8576b\"],[0.6666666666666666,\"#ed7953\"],[0.7777777777777778,\"#fb9f3a\"],[0.8888888888888888,\"#fdca26\"],[1.0,\"#f0f921\"]]}],\"surface\":[{\"type\":\"surface\",\"colorbar\":{\"outlinewidth\":0,\"ticks\":\"\"},\"colorscale\":[[0.0,\"#0d0887\"],[0.1111111111111111,\"#46039f\"],[0.2222222222222222,\"#7201a8\"],[0.3333333333333333,\"#9c179e\"],[0.4444444444444444,\"#bd3786\"],[0.5555555555555556,\"#d8576b\"],[0.6666666666666666,\"#ed7953\"],[0.7777777777777778,\"#fb9f3a\"],[0.8888888888888888,\"#fdca26\"],[1.0,\"#f0f921\"]]}],\"mesh3d\":[{\"type\":\"mesh3d\",\"colorbar\":{\"outlinewidth\":0,\"ticks\":\"\"}}],\"scatter\":[{\"fillpattern\":{\"fillmode\":\"overlay\",\"size\":10,\"solidity\":0.2},\"type\":\"scatter\"}],\"parcoords\":[{\"type\":\"parcoords\",\"line\":{\"colorbar\":{\"outlinewidth\":0,\"ticks\":\"\"}}}],\"scatterpolargl\":[{\"type\":\"scatterpolargl\",\"marker\":{\"colorbar\":{\"outlinewidth\":0,\"ticks\":\"\"}}}],\"bar\":[{\"error_x\":{\"color\":\"#2a3f5f\"},\"error_y\":{\"color\":\"#2a3f5f\"},\"marker\":{\"line\":{\"color\":\"#E5ECF6\",\"width\":0.5},\"pattern\":{\"fillmode\":\"overlay\",\"size\":10,\"solidity\":0.2}},\"type\":\"bar\"}],\"scattergeo\":[{\"type\":\"scattergeo\",\"marker\":{\"colorbar\":{\"outlinewidth\":0,\"ticks\":\"\"}}}],\"scatterpolar\":[{\"type\":\"scatterpolar\",\"marker\":{\"colorbar\":{\"outlinewidth\":0,\"ticks\":\"\"}}}],\"histogram\":[{\"marker\":{\"pattern\":{\"fillmode\":\"overlay\",\"size\":10,\"solidity\":0.2}},\"type\":\"histogram\"}],\"scattergl\":[{\"type\":\"scattergl\",\"marker\":{\"colorbar\":{\"outlinewidth\":0,\"ticks\":\"\"}}}],\"scatter3d\":[{\"type\":\"scatter3d\",\"line\":{\"colorbar\":{\"outlinewidth\":0,\"ticks\":\"\"}},\"marker\":{\"colorbar\":{\"outlinewidth\":0,\"ticks\":\"\"}}}],\"scattermapbox\":[{\"type\":\"scattermapbox\",\"marker\":{\"colorbar\":{\"outlinewidth\":0,\"ticks\":\"\"}}}],\"scatterternary\":[{\"type\":\"scatterternary\",\"marker\":{\"colorbar\":{\"outlinewidth\":0,\"ticks\":\"\"}}}],\"scattercarpet\":[{\"type\":\"scattercarpet\",\"marker\":{\"colorbar\":{\"outlinewidth\":0,\"ticks\":\"\"}}}],\"carpet\":[{\"aaxis\":{\"endlinecolor\":\"#2a3f5f\",\"gridcolor\":\"white\",\"linecolor\":\"white\",\"minorgridcolor\":\"white\",\"startlinecolor\":\"#2a3f5f\"},\"baxis\":{\"endlinecolor\":\"#2a3f5f\",\"gridcolor\":\"white\",\"linecolor\":\"white\",\"minorgridcolor\":\"white\",\"startlinecolor\":\"#2a3f5f\"},\"type\":\"carpet\"}],\"table\":[{\"cells\":{\"fill\":{\"color\":\"#EBF0F8\"},\"line\":{\"color\":\"white\"}},\"header\":{\"fill\":{\"color\":\"#C8D4E3\"},\"line\":{\"color\":\"white\"}},\"type\":\"table\"}],\"barpolar\":[{\"marker\":{\"line\":{\"color\":\"#E5ECF6\",\"width\":0.5},\"pattern\":{\"fillmode\":\"overlay\",\"size\":10,\"solidity\":0.2}},\"type\":\"barpolar\"}],\"pie\":[{\"automargin\":true,\"type\":\"pie\"}]},\"layout\":{\"autotypenumbers\":\"strict\",\"colorway\":[\"#636efa\",\"#EF553B\",\"#00cc96\",\"#ab63fa\",\"#FFA15A\",\"#19d3f3\",\"#FF6692\",\"#B6E880\",\"#FF97FF\",\"#FECB52\"],\"font\":{\"color\":\"#2a3f5f\"},\"hovermode\":\"closest\",\"hoverlabel\":{\"align\":\"left\"},\"paper_bgcolor\":\"white\",\"plot_bgcolor\":\"#E5ECF6\",\"polar\":{\"bgcolor\":\"#E5ECF6\",\"angularaxis\":{\"gridcolor\":\"white\",\"linecolor\":\"white\",\"ticks\":\"\"},\"radialaxis\":{\"gridcolor\":\"white\",\"linecolor\":\"white\",\"ticks\":\"\"}},\"ternary\":{\"bgcolor\":\"#E5ECF6\",\"aaxis\":{\"gridcolor\":\"white\",\"linecolor\":\"white\",\"ticks\":\"\"},\"baxis\":{\"gridcolor\":\"white\",\"linecolor\":\"white\",\"ticks\":\"\"},\"caxis\":{\"gridcolor\":\"white\",\"linecolor\":\"white\",\"ticks\":\"\"}},\"coloraxis\":{\"colorbar\":{\"outlinewidth\":0,\"ticks\":\"\"}},\"colorscale\":{\"sequential\":[[0.0,\"#0d0887\"],[0.1111111111111111,\"#46039f\"],[0.2222222222222222,\"#7201a8\"],[0.3333333333333333,\"#9c179e\"],[0.4444444444444444,\"#bd3786\"],[0.5555555555555556,\"#d8576b\"],[0.6666666666666666,\"#ed7953\"],[0.7777777777777778,\"#fb9f3a\"],[0.8888888888888888,\"#fdca26\"],[1.0,\"#f0f921\"]],\"sequentialminus\":[[0.0,\"#0d0887\"],[0.1111111111111111,\"#46039f\"],[0.2222222222222222,\"#7201a8\"],[0.3333333333333333,\"#9c179e\"],[0.4444444444444444,\"#bd3786\"],[0.5555555555555556,\"#d8576b\"],[0.6666666666666666,\"#ed7953\"],[0.7777777777777778,\"#fb9f3a\"],[0.8888888888888888,\"#fdca26\"],[1.0,\"#f0f921\"]],\"diverging\":[[0,\"#8e0152\"],[0.1,\"#c51b7d\"],[0.2,\"#de77ae\"],[0.3,\"#f1b6da\"],[0.4,\"#fde0ef\"],[0.5,\"#f7f7f7\"],[0.6,\"#e6f5d0\"],[0.7,\"#b8e186\"],[0.8,\"#7fbc41\"],[0.9,\"#4d9221\"],[1,\"#276419\"]]},\"xaxis\":{\"gridcolor\":\"white\",\"linecolor\":\"white\",\"ticks\":\"\",\"title\":{\"standoff\":15},\"zerolinecolor\":\"white\",\"automargin\":true,\"zerolinewidth\":2},\"yaxis\":{\"gridcolor\":\"white\",\"linecolor\":\"white\",\"ticks\":\"\",\"title\":{\"standoff\":15},\"zerolinecolor\":\"white\",\"automargin\":true,\"zerolinewidth\":2},\"scene\":{\"xaxis\":{\"backgroundcolor\":\"#E5ECF6\",\"gridcolor\":\"white\",\"linecolor\":\"white\",\"showbackground\":true,\"ticks\":\"\",\"zerolinecolor\":\"white\",\"gridwidth\":2},\"yaxis\":{\"backgroundcolor\":\"#E5ECF6\",\"gridcolor\":\"white\",\"linecolor\":\"white\",\"showbackground\":true,\"ticks\":\"\",\"zerolinecolor\":\"white\",\"gridwidth\":2},\"zaxis\":{\"backgroundcolor\":\"#E5ECF6\",\"gridcolor\":\"white\",\"linecolor\":\"white\",\"showbackground\":true,\"ticks\":\"\",\"zerolinecolor\":\"white\",\"gridwidth\":2}},\"shapedefaults\":{\"line\":{\"color\":\"#2a3f5f\"}},\"annotationdefaults\":{\"arrowcolor\":\"#2a3f5f\",\"arrowhead\":0,\"arrowwidth\":1},\"geo\":{\"bgcolor\":\"white\",\"landcolor\":\"#E5ECF6\",\"subunitcolor\":\"white\",\"showland\":true,\"showlakes\":true,\"lakecolor\":\"white\"},\"title\":{\"x\":0.05},\"mapbox\":{\"style\":\"light\"}}},\"legend\":{\"tracegroupgap\":0},\"title\":{\"text\":\"Distribution of transaction type\"}},                        {\"responsive\": true}                    ).then(function(){\n",
       "                            \n",
       "var gd = document.getElementById('45397474-af90-43e5-b652-0a6477df6b15');\n",
       "var x = new MutationObserver(function (mutations, observer) {{\n",
       "        var display = window.getComputedStyle(gd).display;\n",
       "        if (!display || display === 'none') {{\n",
       "            console.log([gd, 'removed!']);\n",
       "            Plotly.purge(gd);\n",
       "            observer.disconnect();\n",
       "        }}\n",
       "}});\n",
       "\n",
       "// Listen for the removal of the full notebook cells\n",
       "var notebookContainer = gd.closest('#notebook-container');\n",
       "if (notebookContainer) {{\n",
       "    x.observe(notebookContainer, {childList: true});\n",
       "}}\n",
       "\n",
       "// Listen for the clearing of the current output cell\n",
       "var outputEl = gd.closest('.output');\n",
       "if (outputEl) {{\n",
       "    x.observe(outputEl, {childList: true});\n",
       "}}\n",
       "\n",
       "                        })                };                });            </script>        </div>"
      ]
     },
     "metadata": {},
     "output_type": "display_data"
    }
   ],
   "source": [
    "px.pie(data,values=quantity,names=transaction,hole=0.4,title=\"Distribution of transaction type\")"
   ]
  },
  {
   "cell_type": "code",
   "execution_count": 131,
   "id": "bf729aeb",
   "metadata": {},
   "outputs": [],
   "source": [
    "data.replace(to_replace=['PAYMENT', 'TRANSFER', 'CASH_OUT', 'DEBIT', 'CASH_IN'],value=[2,4,1,5,3],inplace=True)"
   ]
  },
  {
   "cell_type": "code",
   "execution_count": 132,
   "id": "52118728",
   "metadata": {},
   "outputs": [],
   "source": [
    "df = data.drop(['nameOrig', 'nameDest'], axis=1)"
   ]
  },
  {
   "cell_type": "code",
   "execution_count": 133,
   "id": "5d848a48",
   "metadata": {},
   "outputs": [
    {
     "data": {
      "image/png": "[encoded data removed]",
      "text/plain": [
       "<Figure size 1100x1700 with 9 Axes>"
      ]
     },
     "metadata": {},
     "output_type": "display_data"
    }
   ],
   "source": [
    "fig, axes = plt.subplots(nrows=3, ncols=3,figsize=(11,17))\n",
    "fig.suptitle('Features vs Class\\n', size = 18)\n",
    "\n",
    "sns.boxplot(ax=axes[0, 0], data=df, x='isFraud', y='step', palette='Spectral')\n",
    "axes[0,0].set_title(\"step\");\n",
    "\n",
    "sns.boxplot(ax=axes[0, 1], data=df, x='isFraud', y='type', palette='Spectral')\n",
    "axes[0,1].set_title(\"type\");\n",
    "\n",
    "sns.boxplot(ax=axes[0, 2], data=df, x='isFraud', y='amount', palette='Spectral')\n",
    "axes[0,2].set_title(\"amount\");\n",
    "\n",
    "sns.boxplot(ax=axes[1, 0], data=df, x='isFraud', y='oldbalanceOrg', palette='Spectral')\n",
    "axes[1,0].set_title(\"oldbalanceOrg\");\n",
    "\n",
    "sns.boxplot(ax=axes[1, 1], data=df, x='isFraud', y='newbalanceOrig', palette='Spectral')\n",
    "axes[1,1].set_title(\"newbalanceOrig\");\n",
    "\n",
    "sns.boxplot(ax=axes[1, 2], data=df, x='isFraud', y='oldbalanceDest', palette='Spectral')\n",
    "axes[1,2].set_title(\"oldbalanceDest\");\n",
    "\n",
    "sns.boxplot(ax=axes[2, 0], data=df, x='isFraud', y='newbalanceDest', palette='Spectral')\n",
    "axes[2,0].set_title(\"newbalanceDest\");\n",
    "sns.boxplot(ax=axes[2, 1], data=df, x='isFraud', y='isFlaggedFraud', palette='Spectral')\n",
    "axes[2,1].set_title(\"isFlaggedFraud\");\n",
    "\n",
    "plt.tight_layout()\n",
    "\n",
    "       "
   ]
  },
  {
   "cell_type": "code",
   "execution_count": 134,
   "id": "5726e3b1",
   "metadata": {},
   "outputs": [],
   "source": [
    "def z_score_method (df,n,features):\n",
    "    \n",
    "    outlier_list = []\n",
    "    \n",
    "    for column in features:\n",
    "        # calculate the mean and standard deviation of the data frame\n",
    "        data_mean = df[column].mean()\n",
    "        data_std = df[column].std()\n",
    "        threshold = 3\n",
    "        \n",
    "        z_score = abs( (df[column] - data_mean)/data_std )\n",
    "        \n",
    "        # Determining a list of indices of outliers for feature column        \n",
    "        outlier_list_column =  df[z_score > threshold].index\n",
    "        \n",
    "        # appending the found outlier indices for column to the list of outlier indices \n",
    "        outlier_list.extend(outlier_list_column)\n",
    "        \n",
    "    # selecting observations containing more than x outliers\n",
    "    outlier_list = Counter(outlier_list)     \n",
    "    multiple_outliers = list( k for k, v in outlier_list.items() if v > n )\n",
    "    \n",
    "    # Calculate the number of outlier records\n",
    "    df1 = df[z_score > threshold]\n",
    "    print('Total number of outliers is:', df1.shape[0])\n",
    "    \n",
    "    return multiple_outliers\n"
   ]
  },
  {
   "cell_type": "code",
   "execution_count": 135,
   "id": "47087745",
   "metadata": {},
   "outputs": [
    {
     "name": "stdout",
     "output_type": "stream",
     "text": [
      "Total number of outliers is: 75166\n"
     ]
    }
   ],
   "source": [
    "feature_list=['amount', 'oldbalanceOrg', 'newbalanceOrig', 'oldbalanceDest', 'newbalanceDest']\n",
    "# detecting outliers\n",
    "Outliers_z_score = z_score_method(df,1,feature_list)\n",
    "\n",
    "# dropping outliers\n",
    "data = df.drop(Outliers_z_score, axis = 0).reset_index(drop=True)"
   ]
  },
  {
   "cell_type": "code",
   "execution_count": 136,
   "id": "c81a2421",
   "metadata": {},
   "outputs": [],
   "source": [
    "from sklearn.preprocessing import StandardScaler, LabelEncoder, MinMaxScaler\n",
    "from sklearn.model_selection import train_test_split, GridSearchCV, cross_val_score\n",
    "from sklearn.metrics import accuracy_score, f1_score, precision_score, recall_score\n",
    "\n",
    "# ignore warnings   \n",
    "import warnings\n",
    "warnings.filterwarnings('ignore')"
   ]
  },
  {
   "cell_type": "code",
   "execution_count": 137,
   "id": "392d6157",
   "metadata": {},
   "outputs": [],
   "source": [
    "legit= data[data['isFraud'] == 0]\n",
    "fraud = data[data['isFraud'] == 1]"
   ]
  },
  {
   "cell_type": "code",
   "execution_count": 138,
   "id": "e2758814",
   "metadata": {},
   "outputs": [
    {
     "data": {
      "text/html": [
       "<div>\n",
       "<style scoped>\n",
       "    .dataframe tbody tr th:only-of-type {\n",
       "        vertical-align: middle;\n",
       "    }\n",
       "\n",
       "    .dataframe tbody tr th {\n",
       "        vertical-align: top;\n",
       "    }\n",
       "\n",
       "    .dataframe thead th {\n",
       "        text-align: right;\n",
       "    }\n",
       "</style>\n",
       "<table border=\"1\" class=\"dataframe\">\n",
       "  <thead>\n",
       "    <tr style=\"text-align: right;\">\n",
       "      <th></th>\n",
       "      <th>step</th>\n",
       "      <th>type</th>\n",
       "      <th>amount</th>\n",
       "      <th>oldbalanceOrg</th>\n",
       "      <th>newbalanceOrig</th>\n",
       "      <th>oldbalanceDest</th>\n",
       "      <th>newbalanceDest</th>\n",
       "      <th>isFraud</th>\n",
       "      <th>isFlaggedFraud</th>\n",
       "    </tr>\n",
       "  </thead>\n",
       "  <tbody>\n",
       "    <tr>\n",
       "      <th>count</th>\n",
       "      <td>6.129037e+06</td>\n",
       "      <td>6.129037e+06</td>\n",
       "      <td>6.129037e+06</td>\n",
       "      <td>6.129037e+06</td>\n",
       "      <td>6.129037e+06</td>\n",
       "      <td>6.129037e+06</td>\n",
       "      <td>6.129037e+06</td>\n",
       "      <td>6129037.0</td>\n",
       "      <td>6129037.0</td>\n",
       "    </tr>\n",
       "    <tr>\n",
       "      <th>mean</th>\n",
       "      <td>2.430712e+02</td>\n",
       "      <td>2.025715e+00</td>\n",
       "      <td>1.594482e+05</td>\n",
       "      <td>4.580358e+05</td>\n",
       "      <td>4.777755e+05</td>\n",
       "      <td>8.490314e+05</td>\n",
       "      <td>9.539727e+05</td>\n",
       "      <td>0.0</td>\n",
       "      <td>0.0</td>\n",
       "    </tr>\n",
       "    <tr>\n",
       "      <th>std</th>\n",
       "      <td>1.423626e+02</td>\n",
       "      <td>9.739493e-01</td>\n",
       "      <td>3.132058e+05</td>\n",
       "      <td>1.438913e+06</td>\n",
       "      <td>1.480425e+06</td>\n",
       "      <td>1.708053e+06</td>\n",
       "      <td>1.805440e+06</td>\n",
       "      <td>0.0</td>\n",
       "      <td>0.0</td>\n",
       "    </tr>\n",
       "    <tr>\n",
       "      <th>min</th>\n",
       "      <td>1.000000e+00</td>\n",
       "      <td>1.000000e+00</td>\n",
       "      <td>1.000000e-02</td>\n",
       "      <td>0.000000e+00</td>\n",
       "      <td>0.000000e+00</td>\n",
       "      <td>0.000000e+00</td>\n",
       "      <td>0.000000e+00</td>\n",
       "      <td>0.0</td>\n",
       "      <td>0.0</td>\n",
       "    </tr>\n",
       "    <tr>\n",
       "      <th>25%</th>\n",
       "      <td>1.550000e+02</td>\n",
       "      <td>1.000000e+00</td>\n",
       "      <td>1.280462e+04</td>\n",
       "      <td>0.000000e+00</td>\n",
       "      <td>0.000000e+00</td>\n",
       "      <td>0.000000e+00</td>\n",
       "      <td>0.000000e+00</td>\n",
       "      <td>0.0</td>\n",
       "      <td>0.0</td>\n",
       "    </tr>\n",
       "    <tr>\n",
       "      <th>50%</th>\n",
       "      <td>2.380000e+02</td>\n",
       "      <td>2.000000e+00</td>\n",
       "      <td>7.063025e+04</td>\n",
       "      <td>1.200600e+04</td>\n",
       "      <td>0.000000e+00</td>\n",
       "      <td>1.018836e+05</td>\n",
       "      <td>1.925233e+05</td>\n",
       "      <td>0.0</td>\n",
       "      <td>0.0</td>\n",
       "    </tr>\n",
       "    <tr>\n",
       "      <th>75%</th>\n",
       "      <td>3.340000e+02</td>\n",
       "      <td>3.000000e+00</td>\n",
       "      <td>2.052813e+05</td>\n",
       "      <td>9.863800e+04</td>\n",
       "      <td>1.158505e+05</td>\n",
       "      <td>8.609651e+05</td>\n",
       "      <td>1.034867e+06</td>\n",
       "      <td>0.0</td>\n",
       "      <td>0.0</td>\n",
       "    </tr>\n",
       "    <tr>\n",
       "      <th>max</th>\n",
       "      <td>7.180000e+02</td>\n",
       "      <td>5.000000e+00</td>\n",
       "      <td>1.000000e+07</td>\n",
       "      <td>9.625924e+06</td>\n",
       "      <td>1.026636e+07</td>\n",
       "      <td>1.306083e+07</td>\n",
       "      <td>4.266109e+07</td>\n",
       "      <td>0.0</td>\n",
       "      <td>0.0</td>\n",
       "    </tr>\n",
       "  </tbody>\n",
       "</table>\n",
       "</div>"
      ],
      "text/plain": [
       "               step          type        amount  oldbalanceOrg  \\\n",
       "count  6.129037e+06  6.129037e+06  6.129037e+06   6.129037e+06   \n",
       "mean   2.430712e+02  2.025715e+00  1.594482e+05   4.580358e+05   \n",
       "std    1.423626e+02  9.739493e-01  3.132058e+05   1.438913e+06   \n",
       "min    1.000000e+00  1.000000e+00  1.000000e-02   0.000000e+00   \n",
       "25%    1.550000e+02  1.000000e+00  1.280462e+04   0.000000e+00   \n",
       "50%    2.380000e+02  2.000000e+00  7.063025e+04   1.200600e+04   \n",
       "75%    3.340000e+02  3.000000e+00  2.052813e+05   9.863800e+04   \n",
       "max    7.180000e+02  5.000000e+00  1.000000e+07   9.625924e+06   \n",
       "\n",
       "       newbalanceOrig  oldbalanceDest  newbalanceDest    isFraud  \\\n",
       "count    6.129037e+06    6.129037e+06    6.129037e+06  6129037.0   \n",
       "mean     4.777755e+05    8.490314e+05    9.539727e+05        0.0   \n",
       "std      1.480425e+06    1.708053e+06    1.805440e+06        0.0   \n",
       "min      0.000000e+00    0.000000e+00    0.000000e+00        0.0   \n",
       "25%      0.000000e+00    0.000000e+00    0.000000e+00        0.0   \n",
       "50%      0.000000e+00    1.018836e+05    1.925233e+05        0.0   \n",
       "75%      1.158505e+05    8.609651e+05    1.034867e+06        0.0   \n",
       "max      1.026636e+07    1.306083e+07    4.266109e+07        0.0   \n",
       "\n",
       "       isFlaggedFraud  \n",
       "count       6129037.0  \n",
       "mean              0.0  \n",
       "std               0.0  \n",
       "min               0.0  \n",
       "25%               0.0  \n",
       "50%               0.0  \n",
       "75%               0.0  \n",
       "max               0.0  "
      ]
     },
     "execution_count": 138,
     "metadata": {},
     "output_type": "execute_result"
    }
   ],
   "source": [
    "legit.describe()"
   ]
  },
  {
   "cell_type": "code",
   "execution_count": 139,
   "id": "77e41f63",
   "metadata": {},
   "outputs": [
    {
     "data": {
      "text/plain": [
       "count    6.129037e+06\n",
       "mean     1.594482e+05\n",
       "std      3.132058e+05\n",
       "min      1.000000e-02\n",
       "25%      1.280462e+04\n",
       "50%      7.063025e+04\n",
       "75%      2.052813e+05\n",
       "max      1.000000e+07\n",
       "Name: amount, dtype: float64"
      ]
     },
     "execution_count": 139,
     "metadata": {},
     "output_type": "execute_result"
    }
   ],
   "source": [
    "legit.amount.describe()"
   ]
  },
  {
   "cell_type": "code",
   "execution_count": 140,
   "id": "921b3f89",
   "metadata": {},
   "outputs": [
    {
     "data": {
      "text/html": [
       "<div>\n",
       "<style scoped>\n",
       "    .dataframe tbody tr th:only-of-type {\n",
       "        vertical-align: middle;\n",
       "    }\n",
       "\n",
       "    .dataframe tbody tr th {\n",
       "        vertical-align: top;\n",
       "    }\n",
       "\n",
       "    .dataframe thead th {\n",
       "        text-align: right;\n",
       "    }\n",
       "</style>\n",
       "<table border=\"1\" class=\"dataframe\">\n",
       "  <thead>\n",
       "    <tr style=\"text-align: right;\">\n",
       "      <th></th>\n",
       "      <th>step</th>\n",
       "      <th>type</th>\n",
       "      <th>amount</th>\n",
       "      <th>oldbalanceOrg</th>\n",
       "      <th>newbalanceOrig</th>\n",
       "      <th>oldbalanceDest</th>\n",
       "      <th>newbalanceDest</th>\n",
       "      <th>isFraud</th>\n",
       "      <th>isFlaggedFraud</th>\n",
       "    </tr>\n",
       "  </thead>\n",
       "  <tbody>\n",
       "    <tr>\n",
       "      <th>count</th>\n",
       "      <td>7845.000000</td>\n",
       "      <td>7845.000000</td>\n",
       "      <td>7.845000e+03</td>\n",
       "      <td>7.845000e+03</td>\n",
       "      <td>7.845000e+03</td>\n",
       "      <td>7.845000e+03</td>\n",
       "      <td>7.845000e+03</td>\n",
       "      <td>7845.0</td>\n",
       "      <td>7845.000000</td>\n",
       "    </tr>\n",
       "    <tr>\n",
       "      <th>mean</th>\n",
       "      <td>365.216826</td>\n",
       "      <td>2.505927</td>\n",
       "      <td>1.123149e+06</td>\n",
       "      <td>1.121965e+06</td>\n",
       "      <td>3.980485e+03</td>\n",
       "      <td>4.022708e+05</td>\n",
       "      <td>9.576191e+05</td>\n",
       "      <td>1.0</td>\n",
       "      <td>0.001275</td>\n",
       "    </tr>\n",
       "    <tr>\n",
       "      <th>std</th>\n",
       "      <td>216.454979</td>\n",
       "      <td>1.500084</td>\n",
       "      <td>1.729532e+06</td>\n",
       "      <td>1.730024e+06</td>\n",
       "      <td>1.258346e+05</td>\n",
       "      <td>1.240999e+06</td>\n",
       "      <td>1.920119e+06</td>\n",
       "      <td>0.0</td>\n",
       "      <td>0.035682</td>\n",
       "    </tr>\n",
       "    <tr>\n",
       "      <th>min</th>\n",
       "      <td>1.000000</td>\n",
       "      <td>1.000000</td>\n",
       "      <td>0.000000e+00</td>\n",
       "      <td>0.000000e+00</td>\n",
       "      <td>0.000000e+00</td>\n",
       "      <td>0.000000e+00</td>\n",
       "      <td>0.000000e+00</td>\n",
       "      <td>1.0</td>\n",
       "      <td>0.000000</td>\n",
       "    </tr>\n",
       "    <tr>\n",
       "      <th>25%</th>\n",
       "      <td>177.000000</td>\n",
       "      <td>1.000000</td>\n",
       "      <td>1.200747e+05</td>\n",
       "      <td>1.176834e+05</td>\n",
       "      <td>0.000000e+00</td>\n",
       "      <td>0.000000e+00</td>\n",
       "      <td>0.000000e+00</td>\n",
       "      <td>1.0</td>\n",
       "      <td>0.000000</td>\n",
       "    </tr>\n",
       "    <tr>\n",
       "      <th>50%</th>\n",
       "      <td>363.000000</td>\n",
       "      <td>4.000000</td>\n",
       "      <td>3.987117e+05</td>\n",
       "      <td>3.980420e+05</td>\n",
       "      <td>0.000000e+00</td>\n",
       "      <td>0.000000e+00</td>\n",
       "      <td>0.000000e+00</td>\n",
       "      <td>1.0</td>\n",
       "      <td>0.000000</td>\n",
       "    </tr>\n",
       "    <tr>\n",
       "      <th>75%</th>\n",
       "      <td>557.000000</td>\n",
       "      <td>4.000000</td>\n",
       "      <td>1.299861e+06</td>\n",
       "      <td>1.298921e+06</td>\n",
       "      <td>0.000000e+00</td>\n",
       "      <td>1.361420e+05</td>\n",
       "      <td>9.687189e+05</td>\n",
       "      <td>1.0</td>\n",
       "      <td>0.000000</td>\n",
       "    </tr>\n",
       "    <tr>\n",
       "      <th>max</th>\n",
       "      <td>743.000000</td>\n",
       "      <td>4.000000</td>\n",
       "      <td>9.468064e+06</td>\n",
       "      <td>9.468064e+06</td>\n",
       "      <td>5.674548e+06</td>\n",
       "      <td>1.179191e+07</td>\n",
       "      <td>1.264629e+07</td>\n",
       "      <td>1.0</td>\n",
       "      <td>1.000000</td>\n",
       "    </tr>\n",
       "  </tbody>\n",
       "</table>\n",
       "</div>"
      ],
      "text/plain": [
       "              step         type        amount  oldbalanceOrg  newbalanceOrig  \\\n",
       "count  7845.000000  7845.000000  7.845000e+03   7.845000e+03    7.845000e+03   \n",
       "mean    365.216826     2.505927  1.123149e+06   1.121965e+06    3.980485e+03   \n",
       "std     216.454979     1.500084  1.729532e+06   1.730024e+06    1.258346e+05   \n",
       "min       1.000000     1.000000  0.000000e+00   0.000000e+00    0.000000e+00   \n",
       "25%     177.000000     1.000000  1.200747e+05   1.176834e+05    0.000000e+00   \n",
       "50%     363.000000     4.000000  3.987117e+05   3.980420e+05    0.000000e+00   \n",
       "75%     557.000000     4.000000  1.299861e+06   1.298921e+06    0.000000e+00   \n",
       "max     743.000000     4.000000  9.468064e+06   9.468064e+06    5.674548e+06   \n",
       "\n",
       "       oldbalanceDest  newbalanceDest  isFraud  isFlaggedFraud  \n",
       "count    7.845000e+03    7.845000e+03   7845.0     7845.000000  \n",
       "mean     4.022708e+05    9.576191e+05      1.0        0.001275  \n",
       "std      1.240999e+06    1.920119e+06      0.0        0.035682  \n",
       "min      0.000000e+00    0.000000e+00      1.0        0.000000  \n",
       "25%      0.000000e+00    0.000000e+00      1.0        0.000000  \n",
       "50%      0.000000e+00    0.000000e+00      1.0        0.000000  \n",
       "75%      1.361420e+05    9.687189e+05      1.0        0.000000  \n",
       "max      1.179191e+07    1.264629e+07      1.0        1.000000  "
      ]
     },
     "execution_count": 140,
     "metadata": {},
     "output_type": "execute_result"
    }
   ],
   "source": [
    "fraud.describe()"
   ]
  },
  {
   "cell_type": "code",
   "execution_count": 141,
   "id": "05f079a3",
   "metadata": {},
   "outputs": [
    {
     "data": {
      "text/plain": [
       "count    7.845000e+03\n",
       "mean     1.123149e+06\n",
       "std      1.729532e+06\n",
       "min      0.000000e+00\n",
       "25%      1.200747e+05\n",
       "50%      3.987117e+05\n",
       "75%      1.299861e+06\n",
       "max      9.468064e+06\n",
       "Name: amount, dtype: float64"
      ]
     },
     "execution_count": 141,
     "metadata": {},
     "output_type": "execute_result"
    }
   ],
   "source": [
    "fraud.amount.describe()"
   ]
  },
  {
   "cell_type": "code",
   "execution_count": 142,
   "id": "e1812799",
   "metadata": {},
   "outputs": [
    {
     "data": {
      "text/html": [
       "<div>\n",
       "<style scoped>\n",
       "    .dataframe tbody tr th:only-of-type {\n",
       "        vertical-align: middle;\n",
       "    }\n",
       "\n",
       "    .dataframe tbody tr th {\n",
       "        vertical-align: top;\n",
       "    }\n",
       "\n",
       "    .dataframe thead th {\n",
       "        text-align: right;\n",
       "    }\n",
       "</style>\n",
       "<table border=\"1\" class=\"dataframe\">\n",
       "  <thead>\n",
       "    <tr style=\"text-align: right;\">\n",
       "      <th></th>\n",
       "      <th>step</th>\n",
       "      <th>type</th>\n",
       "      <th>amount</th>\n",
       "      <th>oldbalanceOrg</th>\n",
       "      <th>newbalanceOrig</th>\n",
       "      <th>oldbalanceDest</th>\n",
       "      <th>newbalanceDest</th>\n",
       "      <th>isFlaggedFraud</th>\n",
       "    </tr>\n",
       "    <tr>\n",
       "      <th>isFraud</th>\n",
       "      <th></th>\n",
       "      <th></th>\n",
       "      <th></th>\n",
       "      <th></th>\n",
       "      <th></th>\n",
       "      <th></th>\n",
       "      <th></th>\n",
       "      <th></th>\n",
       "    </tr>\n",
       "  </thead>\n",
       "  <tbody>\n",
       "    <tr>\n",
       "      <th>0</th>\n",
       "      <td>243.071156</td>\n",
       "      <td>2.025715</td>\n",
       "      <td>1.594482e+05</td>\n",
       "      <td>4.580358e+05</td>\n",
       "      <td>477775.515808</td>\n",
       "      <td>849031.374602</td>\n",
       "      <td>953972.726788</td>\n",
       "      <td>0.000000</td>\n",
       "    </tr>\n",
       "    <tr>\n",
       "      <th>1</th>\n",
       "      <td>365.216826</td>\n",
       "      <td>2.505927</td>\n",
       "      <td>1.123149e+06</td>\n",
       "      <td>1.121965e+06</td>\n",
       "      <td>3980.485465</td>\n",
       "      <td>402270.784407</td>\n",
       "      <td>957619.131992</td>\n",
       "      <td>0.001275</td>\n",
       "    </tr>\n",
       "  </tbody>\n",
       "</table>\n",
       "</div>"
      ],
      "text/plain": [
       "               step      type        amount  oldbalanceOrg  newbalanceOrig  \\\n",
       "isFraud                                                                      \n",
       "0        243.071156  2.025715  1.594482e+05   4.580358e+05   477775.515808   \n",
       "1        365.216826  2.505927  1.123149e+06   1.121965e+06     3980.485465   \n",
       "\n",
       "         oldbalanceDest  newbalanceDest  isFlaggedFraud  \n",
       "isFraud                                                  \n",
       "0         849031.374602   953972.726788        0.000000  \n",
       "1         402270.784407   957619.131992        0.001275  "
      ]
     },
     "execution_count": 142,
     "metadata": {},
     "output_type": "execute_result"
    }
   ],
   "source": [
    "# compare the values for both transactions\n",
    "data.groupby('isFraud').mean()"
   ]
  },
  {
   "cell_type": "code",
   "execution_count": 143,
   "id": "ec92c48b",
   "metadata": {},
   "outputs": [
    {
     "data": {
      "text/html": [
       "<div>\n",
       "<style scoped>\n",
       "    .dataframe tbody tr th:only-of-type {\n",
       "        vertical-align: middle;\n",
       "    }\n",
       "\n",
       "    .dataframe tbody tr th {\n",
       "        vertical-align: top;\n",
       "    }\n",
       "\n",
       "    .dataframe thead th {\n",
       "        text-align: right;\n",
       "    }\n",
       "</style>\n",
       "<table border=\"1\" class=\"dataframe\">\n",
       "  <thead>\n",
       "    <tr style=\"text-align: right;\">\n",
       "      <th></th>\n",
       "      <th>step</th>\n",
       "      <th>type</th>\n",
       "      <th>amount</th>\n",
       "      <th>oldbalanceOrg</th>\n",
       "      <th>newbalanceOrig</th>\n",
       "      <th>oldbalanceDest</th>\n",
       "      <th>newbalanceDest</th>\n",
       "      <th>isFraud</th>\n",
       "      <th>isFlaggedFraud</th>\n",
       "    </tr>\n",
       "  </thead>\n",
       "  <tbody>\n",
       "    <tr>\n",
       "      <th>2404751</th>\n",
       "      <td>204</td>\n",
       "      <td>1</td>\n",
       "      <td>105105.11</td>\n",
       "      <td>0.00</td>\n",
       "      <td>0.00</td>\n",
       "      <td>1501408.49</td>\n",
       "      <td>1606513.61</td>\n",
       "      <td>0</td>\n",
       "      <td>0</td>\n",
       "    </tr>\n",
       "    <tr>\n",
       "      <th>2243796</th>\n",
       "      <td>188</td>\n",
       "      <td>1</td>\n",
       "      <td>236376.07</td>\n",
       "      <td>0.00</td>\n",
       "      <td>0.00</td>\n",
       "      <td>3754434.33</td>\n",
       "      <td>3990810.40</td>\n",
       "      <td>0</td>\n",
       "      <td>0</td>\n",
       "    </tr>\n",
       "    <tr>\n",
       "      <th>3773948</th>\n",
       "      <td>284</td>\n",
       "      <td>1</td>\n",
       "      <td>98443.00</td>\n",
       "      <td>1346.00</td>\n",
       "      <td>0.00</td>\n",
       "      <td>96834.00</td>\n",
       "      <td>195277.01</td>\n",
       "      <td>0</td>\n",
       "      <td>0</td>\n",
       "    </tr>\n",
       "    <tr>\n",
       "      <th>236508</th>\n",
       "      <td>14</td>\n",
       "      <td>3</td>\n",
       "      <td>10635.33</td>\n",
       "      <td>2904770.08</td>\n",
       "      <td>2915405.41</td>\n",
       "      <td>2744338.20</td>\n",
       "      <td>3988678.56</td>\n",
       "      <td>0</td>\n",
       "      <td>0</td>\n",
       "    </tr>\n",
       "    <tr>\n",
       "      <th>3207363</th>\n",
       "      <td>252</td>\n",
       "      <td>1</td>\n",
       "      <td>137575.28</td>\n",
       "      <td>0.00</td>\n",
       "      <td>0.00</td>\n",
       "      <td>675840.11</td>\n",
       "      <td>338219.65</td>\n",
       "      <td>0</td>\n",
       "      <td>0</td>\n",
       "    </tr>\n",
       "  </tbody>\n",
       "</table>\n",
       "</div>"
      ],
      "text/plain": [
       "         step  type     amount  oldbalanceOrg  newbalanceOrig  oldbalanceDest  \\\n",
       "2404751   204     1  105105.11           0.00            0.00      1501408.49   \n",
       "2243796   188     1  236376.07           0.00            0.00      3754434.33   \n",
       "3773948   284     1   98443.00        1346.00            0.00        96834.00   \n",
       "236508     14     3   10635.33     2904770.08      2915405.41      2744338.20   \n",
       "3207363   252     1  137575.28           0.00            0.00       675840.11   \n",
       "\n",
       "         newbalanceDest  isFraud  isFlaggedFraud  \n",
       "2404751      1606513.61        0               0  \n",
       "2243796      3990810.40        0               0  \n",
       "3773948       195277.01        0               0  \n",
       "236508       3988678.56        0               0  \n",
       "3207363       338219.65        0               0  "
      ]
     },
     "execution_count": 143,
     "metadata": {},
     "output_type": "execute_result"
    }
   ],
   "source": [
    "# Increase the sample size of legitimate transactions\n",
    "desired_sample_size = 10000  # Set desired_sample_size to the desired number of samples\n",
    "legit_sample = legit.sample(n=desired_sample_size)  # Increase the sample size\n",
    "\n",
    "# Concatenate under-sampled legitimate transactions with fraudulent transactions\n",
    "new_df = pd.concat([legit_sample, fraud], axis=0)\n",
    "\n",
    "new_df.head()"
   ]
  },
  {
   "cell_type": "code",
   "execution_count": 144,
   "id": "1e367f50",
   "metadata": {},
   "outputs": [],
   "source": [
    "# Splitting the data into Features & Targets\n",
    "X = new_df.drop(columns='isFraud', axis=1)\n",
    "y = new_df['isFraud']"
   ]
  },
  {
   "cell_type": "code",
   "execution_count": 145,
   "id": "a0bd1b89",
   "metadata": {},
   "outputs": [],
   "source": [
    "# Splitting the data into Training data & Testing data\n",
    "X_train, X_test, y_train, y_test = train_test_split(X, y, test_size=0.2, random_state=42)"
   ]
  },
  {
   "cell_type": "code",
   "execution_count": 146,
   "id": "32718b7e",
   "metadata": {},
   "outputs": [
    {
     "name": "stdout",
     "output_type": "stream",
     "text": [
      "(17845, 8) (14276, 8) (3569, 8)\n"
     ]
    }
   ],
   "source": [
    "print(X.shape, X_train.shape, X_test.shape)"
   ]
  },
  {
   "cell_type": "code",
   "execution_count": 148,
   "id": "a1cbbb88",
   "metadata": {},
   "outputs": [
    {
     "data": {
      "text/html": [
       "<div>\n",
       "<style scoped>\n",
       "    .dataframe tbody tr th:only-of-type {\n",
       "        vertical-align: middle;\n",
       "    }\n",
       "\n",
       "    .dataframe tbody tr th {\n",
       "        vertical-align: top;\n",
       "    }\n",
       "\n",
       "    .dataframe thead th {\n",
       "        text-align: right;\n",
       "    }\n",
       "</style>\n",
       "<table border=\"1\" class=\"dataframe\">\n",
       "  <thead>\n",
       "    <tr style=\"text-align: right;\">\n",
       "      <th></th>\n",
       "      <th>step</th>\n",
       "      <th>type</th>\n",
       "      <th>amount</th>\n",
       "      <th>oldbalanceOrg</th>\n",
       "      <th>newbalanceOrig</th>\n",
       "      <th>oldbalanceDest</th>\n",
       "      <th>newbalanceDest</th>\n",
       "      <th>isFraud</th>\n",
       "      <th>isFlaggedFraud</th>\n",
       "    </tr>\n",
       "  </thead>\n",
       "  <tbody>\n",
       "    <tr>\n",
       "      <th>2404751</th>\n",
       "      <td>204</td>\n",
       "      <td>1</td>\n",
       "      <td>105105.11</td>\n",
       "      <td>0.00</td>\n",
       "      <td>0.00</td>\n",
       "      <td>1501408.49</td>\n",
       "      <td>1606513.61</td>\n",
       "      <td>0</td>\n",
       "      <td>0</td>\n",
       "    </tr>\n",
       "    <tr>\n",
       "      <th>2243796</th>\n",
       "      <td>188</td>\n",
       "      <td>1</td>\n",
       "      <td>236376.07</td>\n",
       "      <td>0.00</td>\n",
       "      <td>0.00</td>\n",
       "      <td>3754434.33</td>\n",
       "      <td>3990810.40</td>\n",
       "      <td>0</td>\n",
       "      <td>0</td>\n",
       "    </tr>\n",
       "    <tr>\n",
       "      <th>3773948</th>\n",
       "      <td>284</td>\n",
       "      <td>1</td>\n",
       "      <td>98443.00</td>\n",
       "      <td>1346.00</td>\n",
       "      <td>0.00</td>\n",
       "      <td>96834.00</td>\n",
       "      <td>195277.01</td>\n",
       "      <td>0</td>\n",
       "      <td>0</td>\n",
       "    </tr>\n",
       "    <tr>\n",
       "      <th>236508</th>\n",
       "      <td>14</td>\n",
       "      <td>3</td>\n",
       "      <td>10635.33</td>\n",
       "      <td>2904770.08</td>\n",
       "      <td>2915405.41</td>\n",
       "      <td>2744338.20</td>\n",
       "      <td>3988678.56</td>\n",
       "      <td>0</td>\n",
       "      <td>0</td>\n",
       "    </tr>\n",
       "    <tr>\n",
       "      <th>3207363</th>\n",
       "      <td>252</td>\n",
       "      <td>1</td>\n",
       "      <td>137575.28</td>\n",
       "      <td>0.00</td>\n",
       "      <td>0.00</td>\n",
       "      <td>675840.11</td>\n",
       "      <td>338219.65</td>\n",
       "      <td>0</td>\n",
       "      <td>0</td>\n",
       "    </tr>\n",
       "  </tbody>\n",
       "</table>\n",
       "</div>"
      ],
      "text/plain": [
       "         step  type     amount  oldbalanceOrg  newbalanceOrig  oldbalanceDest  \\\n",
       "2404751   204     1  105105.11           0.00            0.00      1501408.49   \n",
       "2243796   188     1  236376.07           0.00            0.00      3754434.33   \n",
       "3773948   284     1   98443.00        1346.00            0.00        96834.00   \n",
       "236508     14     3   10635.33     2904770.08      2915405.41      2744338.20   \n",
       "3207363   252     1  137575.28           0.00            0.00       675840.11   \n",
       "\n",
       "         newbalanceDest  isFraud  isFlaggedFraud  \n",
       "2404751      1606513.61        0               0  \n",
       "2243796      3990810.40        0               0  \n",
       "3773948       195277.01        0               0  \n",
       "236508       3988678.56        0               0  \n",
       "3207363       338219.65        0               0  "
      ]
     },
     "execution_count": 148,
     "metadata": {},
     "output_type": "execute_result"
    }
   ],
   "source": [
    "df_train = new_df.copy()\n",
    "df_train.head()"
   ]
  },
  {
   "cell_type": "code",
   "execution_count": 149,
   "id": "5f7a2409",
   "metadata": {},
   "outputs": [],
   "source": [
    "def display_feature_importance(model,percentage ,top_n=34, plot=False):\n",
    "    # X and y \n",
    "    X = df_train.drop('isFraud',axis=1)\n",
    "    y = df_train['isFraud']\n",
    "    \n",
    "    model.fit(X, y)\n",
    "    \n",
    "    # Get feature importance\n",
    "    feature_importance = model.feature_importances_\n",
    "    feature_names = X.columns\n",
    "    \n",
    "    # Create a DataFrame for better visualization\n",
    "    feature_importance_df = pd.DataFrame({'Feature': feature_names, 'Importance': feature_importance})\n",
    "    # Sort features by importance\n",
    "    feature_importance_df = feature_importance_df.sort_values(by='Importance', ascending=False)\n",
    "    \n",
    "    # A threshold is calculated based on a specified percentage of the top feature importance.\n",
    "    #  Features with importance above this threshold are selected.\n",
    "    threshold = percentage / 100 * feature_importance_df.iloc[0]['Importance']\n",
    "    \n",
    "    # Select features that meet the threshold\n",
    "    selected_features = feature_importance_df[feature_importance_df['Importance'] >= threshold]['Feature'].tolist()\n",
    "    \n",
    "    #Print Selected Feature \n",
    "    print(\"Selected Features by {} \\n \\n at threshold {}%; {}\".format(model , percentage,selected_features))\n",
    "    if plot==True:\n",
    "        # Set seaborn color palette to \"viridis\"\n",
    "        sns.set(style=\"whitegrid\", palette=\"viridis\")\n",
    "    \n",
    "        # Display or plot the top features\n",
    "        plt.figure(figsize=(10, 6))\n",
    "        sns.barplot(x='Importance', y='Feature', data=feature_importance_df.head(top_n))\n",
    "        plt.title('Feature Importance for {}'.format(type(model).__name__))\n",
    "        plt.show()\n",
    "        \n",
    "    # Add 'Exited' to the list of selected features\n",
    "    selected_features.append('isFraud')\n",
    "        \n",
    "    return selected_features"
   ]
  },
  {
   "cell_type": "code",
   "execution_count": 150,
   "id": "4cfc8ce7",
   "metadata": {},
   "outputs": [
    {
     "name": "stdout",
     "output_type": "stream",
     "text": [
      "Selected Features by XGBClassifier(base_score=None, booster=None, callbacks=None,\n",
      "              colsample_bylevel=None, colsample_bynode=None,\n",
      "              colsample_bytree=None, device=None, early_stopping_rounds=None,\n",
      "              enable_categorical=False, eval_metric=None, feature_types=None,\n",
      "              gamma=None, grow_policy=None, importance_type=None,\n",
      "              interaction_constraints=None, learning_rate=None, max_bin=None,\n",
      "              max_cat_threshold=None, max_cat_to_onehot=None,\n",
      "              max_delta_step=None, max_depth=None, max_leaves=None,\n",
      "              min_child_weight=None, missing=nan, monotone_constraints=None,\n",
      "              multi_strategy=None, n_estimators=None, n_jobs=None,\n",
      "              num_parallel_tree=None, random_state=42, ...) \n",
      " \n",
      " at threshold 3%; ['newbalanceOrig', 'oldbalanceOrg', 'type', 'isFlaggedFraud', 'amount']\n",
      "Selected Features by XGBClassifier(base_score=None, booster=None, callbacks=None,\n",
      "              colsample_bylevel=None, colsample_bynode=None,\n",
      "              colsample_bytree=None, device=None, early_stopping_rounds=None,\n",
      "              enable_categorical=False, eval_metric=None, feature_types=None,\n",
      "              gamma=None, grow_policy=None, importance_type=None,\n",
      "              interaction_constraints=None, learning_rate=None, max_bin=None,\n",
      "              max_cat_threshold=None, max_cat_to_onehot=None,\n",
      "              max_delta_step=None, max_depth=None, max_leaves=None,\n",
      "              min_child_weight=None, missing=nan, monotone_constraints=None,\n",
      "              multi_strategy=None, n_estimators=None, n_jobs=None,\n",
      "              num_parallel_tree=None, random_state=42, ...) \n",
      " \n",
      " at threshold 5%; ['newbalanceOrig', 'oldbalanceOrg', 'type', 'isFlaggedFraud']\n",
      "Selected Features by XGBClassifier(base_score=None, booster=None, callbacks=None,\n",
      "              colsample_bylevel=None, colsample_bynode=None,\n",
      "              colsample_bytree=None, device=None, early_stopping_rounds=None,\n",
      "              enable_categorical=False, eval_metric=None, feature_types=None,\n",
      "              gamma=None, grow_policy=None, importance_type=None,\n",
      "              interaction_constraints=None, learning_rate=None, max_bin=None,\n",
      "              max_cat_threshold=None, max_cat_to_onehot=None,\n",
      "              max_delta_step=None, max_depth=None, max_leaves=None,\n",
      "              min_child_weight=None, missing=nan, monotone_constraints=None,\n",
      "              multi_strategy=None, n_estimators=None, n_jobs=None,\n",
      "              num_parallel_tree=None, random_state=42, ...) \n",
      " \n",
      " at threshold 10%; ['newbalanceOrig', 'oldbalanceOrg']\n",
      "Selected Features by XGBClassifier(base_score=None, booster=None, callbacks=None,\n",
      "              colsample_bylevel=None, colsample_bynode=None,\n",
      "              colsample_bytree=None, device=None, early_stopping_rounds=None,\n",
      "              enable_categorical=False, eval_metric=None, feature_types=None,\n",
      "              gamma=None, grow_policy=None, importance_type=None,\n",
      "              interaction_constraints=None, learning_rate=None, max_bin=None,\n",
      "              max_cat_threshold=None, max_cat_to_onehot=None,\n",
      "              max_delta_step=None, max_depth=None, max_leaves=None,\n",
      "              min_child_weight=None, missing=nan, monotone_constraints=None,\n",
      "              multi_strategy=None, n_estimators=None, n_jobs=None,\n",
      "              num_parallel_tree=None, random_state=42, ...) \n",
      " \n",
      " at threshold 20%; ['newbalanceOrig']\n",
      "Selected Features by XGBClassifier(base_score=None, booster=None, callbacks=None,\n",
      "              colsample_bylevel=None, colsample_bynode=None,\n",
      "              colsample_bytree=None, device=None, early_stopping_rounds=None,\n",
      "              enable_categorical=False, eval_metric=None, feature_types=None,\n",
      "              gamma=None, grow_policy=None, importance_type=None,\n",
      "              interaction_constraints=None, learning_rate=None, max_bin=None,\n",
      "              max_cat_threshold=None, max_cat_to_onehot=None,\n",
      "              max_delta_step=None, max_depth=None, max_leaves=None,\n",
      "              min_child_weight=None, missing=nan, monotone_constraints=None,\n",
      "              multi_strategy=None, n_estimators=None, n_jobs=None,\n",
      "              num_parallel_tree=None, random_state=42, ...) \n",
      " \n",
      " at threshold 40%; ['newbalanceOrig']\n"
     ]
    }
   ],
   "source": [
    "from xgboost import XGBClassifier\n",
    "# List to store selected features for each model and trial percentage\n",
    "selected_features_xgb = []\n",
    "\n",
    "# Initilize AUC List \n",
    "auc_scores = []\n",
    "\n",
    "# List of trial percentages\n",
    "trial_percentages = [3, 5, 10, 20, 40]\n",
    "\n",
    "# Loop over each trial percentage\n",
    "for percentage in trial_percentages:\n",
    "        # Get selected features for each model\n",
    "        xgb_selected_features = display_feature_importance(XGBClassifier(random_state=42), percentage=percentage)\n",
    "\n",
    "        # Append selected features to the respective lists\n",
    "        selected_features_xgb.append(xgb_selected_features)\n",
    "\n",
    "        # X and y \n",
    "        X = df_train.drop('isFraud',axis=1)\n",
    "        y = df_train['isFraud']\n",
    "        # Split the data into training and testing sets\n",
    "        X_train, X_test, y_train, y_test = train_test_split(X, y, test_size=0.3, random_state=42)\n",
    "\n",
    "        # Fit models on training data\n",
    "        xgb_model = XGBClassifier()\n",
    "        xgb_model.fit(X_train[[feature for feature in xgb_selected_features if feature != 'isFraud']], y_train, verbose=0)\n",
    "\n",
    "        # Predict probabilities on the test set\n",
    "        xgb_pred_proba = xgb_model.predict_proba(X_test[[feature for feature in xgb_selected_features if feature != 'isFraud']])[:, 1]\n",
    "\n",
    "        # Calculate AUC scores and append to the list\n",
    "        from sklearn.metrics import roc_auc_score\n",
    "\n",
    "        auc_xgb = roc_auc_score(y_test, xgb_pred_proba)\n",
    "        auc_scores.append((auc_xgb,percentage))\n",
    "\n",
    "        # Sorted AUC \n",
    "        sorted_auc = sorted(auc_scores, reverse=True)\n"
   ]
  },
  {
   "cell_type": "code",
   "execution_count": 151,
   "id": "4901356d",
   "metadata": {},
   "outputs": [
    {
     "name": "stdout",
     "output_type": "stream",
     "text": [
      "The AUC with 3% of top features is 0.9994\n",
      "The AUC with 5% of top features is 0.9831\n",
      "The AUC with 10% of top features is 0.9780\n",
      "The AUC with 40% of top features is 0.7075\n",
      "The AUC with 20% of top features is 0.7075\n"
     ]
    }
   ],
   "source": [
    "# Print Each AUC with Percentage \n",
    "for score, percentage in sorted_auc:\n",
    "    print(f'The AUC with {percentage}% of top features is {score:.4f}')"
   ]
  },
  {
   "cell_type": "code",
   "execution_count": 152,
   "id": "66231a08",
   "metadata": {},
   "outputs": [
    {
     "data": {
      "text/html": [
       "<div>\n",
       "<style scoped>\n",
       "    .dataframe tbody tr th:only-of-type {\n",
       "        vertical-align: middle;\n",
       "    }\n",
       "\n",
       "    .dataframe tbody tr th {\n",
       "        vertical-align: top;\n",
       "    }\n",
       "\n",
       "    .dataframe thead th {\n",
       "        text-align: right;\n",
       "    }\n",
       "</style>\n",
       "<table border=\"1\" class=\"dataframe\">\n",
       "  <thead>\n",
       "    <tr style=\"text-align: right;\">\n",
       "      <th></th>\n",
       "      <th>newbalanceOrig</th>\n",
       "      <th>oldbalanceOrg</th>\n",
       "      <th>type</th>\n",
       "      <th>isFlaggedFraud</th>\n",
       "      <th>amount</th>\n",
       "      <th>isFraud</th>\n",
       "    </tr>\n",
       "  </thead>\n",
       "  <tbody>\n",
       "    <tr>\n",
       "      <th>2404751</th>\n",
       "      <td>0.00</td>\n",
       "      <td>0.00</td>\n",
       "      <td>1</td>\n",
       "      <td>0</td>\n",
       "      <td>105105.11</td>\n",
       "      <td>0</td>\n",
       "    </tr>\n",
       "    <tr>\n",
       "      <th>2243796</th>\n",
       "      <td>0.00</td>\n",
       "      <td>0.00</td>\n",
       "      <td>1</td>\n",
       "      <td>0</td>\n",
       "      <td>236376.07</td>\n",
       "      <td>0</td>\n",
       "    </tr>\n",
       "    <tr>\n",
       "      <th>3773948</th>\n",
       "      <td>0.00</td>\n",
       "      <td>1346.00</td>\n",
       "      <td>1</td>\n",
       "      <td>0</td>\n",
       "      <td>98443.00</td>\n",
       "      <td>0</td>\n",
       "    </tr>\n",
       "    <tr>\n",
       "      <th>236508</th>\n",
       "      <td>2915405.41</td>\n",
       "      <td>2904770.08</td>\n",
       "      <td>3</td>\n",
       "      <td>0</td>\n",
       "      <td>10635.33</td>\n",
       "      <td>0</td>\n",
       "    </tr>\n",
       "    <tr>\n",
       "      <th>3207363</th>\n",
       "      <td>0.00</td>\n",
       "      <td>0.00</td>\n",
       "      <td>1</td>\n",
       "      <td>0</td>\n",
       "      <td>137575.28</td>\n",
       "      <td>0</td>\n",
       "    </tr>\n",
       "  </tbody>\n",
       "</table>\n",
       "</div>"
      ],
      "text/plain": [
       "         newbalanceOrig  oldbalanceOrg  type  isFlaggedFraud     amount  \\\n",
       "2404751            0.00           0.00     1               0  105105.11   \n",
       "2243796            0.00           0.00     1               0  236376.07   \n",
       "3773948            0.00        1346.00     1               0   98443.00   \n",
       "236508       2915405.41     2904770.08     3               0   10635.33   \n",
       "3207363            0.00           0.00     1               0  137575.28   \n",
       "\n",
       "         isFraud  \n",
       "2404751        0  \n",
       "2243796        0  \n",
       "3773948        0  \n",
       "236508         0  \n",
       "3207363        0  "
      ]
     },
     "execution_count": 152,
     "metadata": {},
     "output_type": "execute_result"
    }
   ],
   "source": [
    "# Impottant Feature Extract Using XGb \n",
    "imp_fea=['newbalanceOrig', 'oldbalanceOrg', 'type', 'isFlaggedFraud', 'amount', 'isFraud']\n",
    "df_train = df_train[imp_fea]\n",
    "df_train.head()"
   ]
  },
  {
   "cell_type": "code",
   "execution_count": 153,
   "id": "cefb24c2",
   "metadata": {},
   "outputs": [],
   "source": [
    "def train_xgb_classifier(data, target):\n",
    "    # split the data into X and y\n",
    "    X = data.drop(target, axis=1)\n",
    "    y = data[target]\n",
    "\n",
    "    # split the data into train and test\n",
    "    X_train, X_test, y_train, y_test = train_test_split(X, y, test_size=0.3, random_state=0)\n",
    "\n",
    "    \n",
    "    # # Scaling Data \n",
    "    # scaler = MinMaxScaler()\n",
    "    # X_train = scaler.fit_transform(X_train)\n",
    "    # X_test = scaler.transform(X_test)\n",
    "\n",
    "    # Define the XGBClassifier model\n",
    "    xgb_model = XGBClassifier(random_state=0)\n",
    "\n",
    "    # Define hyperparameters for tuning\n",
    "    param_grid = {\n",
    "        'n_estimators': [50, 100, 150],\n",
    "        'max_depth': [3, 5, 7],\n",
    "        'learning_rate': [0.01, 0.1, 0.2],\n",
    "        'subsample': [0.8, 1.0],\n",
    "        'colsample_bytree': [0.8, 1.0],\n",
    "        'gamma': [0, 1, 2]\n",
    "    }\n",
    "\n",
    "    # Perform GridSearchCV for hyperparameter tuning\n",
    "    grid_search = GridSearchCV(xgb_model, param_grid, cv=5, scoring='accuracy')\n",
    "    grid_search.fit(X_train, y_train)\n",
    "    \n",
    "    # Get the best model and parameters\n",
    "    best_xgb_model = grid_search.best_estimator_\n",
    "    best_params = grid_search.best_params_\n",
    "\n",
    "    # Print the best hyperparameters\n",
    "    print('Best Hyperparameters:')\n",
    "    print(best_params)\n",
    "\n",
    "    # Train the model on the full training set\n",
    "    best_xgb_model.fit(X_train, y_train)\n",
    "\n",
    "    # Evaluate the model on the test set\n",
    "    y_pred_xgb = best_xgb_model.predict(X_test)\n",
    "    accuracy = accuracy_score(y_test, y_pred_xgb)\n",
    "    precision = precision_score(y_test, y_pred_xgb)\n",
    "    recall = recall_score(y_test, y_pred_xgb)\n",
    "\n",
    "    print(f'Accuracy on Test Set: {accuracy:.2f}')\n",
    "    print(f'Precision on Test Set: {precision:.2f}')\n",
    "    print(f'Recall on Test Set: {recall:.2f}')\n",
    "    \n",
    "    #visulalizing the confusion matrix\n",
    "    LABELS = ['Normal', 'Fraud'] \n",
    "    from sklearn.metrics import confusion_matrix\n",
    "    conf_matrix = confusion_matrix(y_test, y_pred_xgb) \n",
    "    plt.figure(figsize =(8, 6)) \n",
    "    sns.heatmap(conf_matrix, xticklabels = LABELS, yticklabels = LABELS, annot = True, fmt =\"d\", cmap=\"Blues\"); \n",
    "    plt.title(\"Confusion matrix\") \n",
    "    plt.ylabel('True class') \n",
    "    plt.xlabel('Predicted class') \n",
    "    plt.show()\n",
    "\n",
    "\n",
    "    return best_xgb_model, best_params"
   ]
  },
  {
   "cell_type": "code",
   "execution_count": 154,
   "id": "c18b021c",
   "metadata": {},
   "outputs": [
    {
     "name": "stdout",
     "output_type": "stream",
     "text": [
      "Best Hyperparameters:\n",
      "{'colsample_bytree': 1.0, 'gamma': 0, 'learning_rate': 0.2, 'max_depth': 7, 'n_estimators': 150, 'subsample': 1.0}\n",
      "Accuracy on Test Set: 0.99\n",
      "Precision on Test Set: 0.99\n",
      "Recall on Test Set: 1.00\n"
     ]
    },
    {
     "data": {
      "image/png": "[encoded data removed]",
      "text/plain": [
       "<Figure size 800x600 with 2 Axes>"
      ]
     },
     "metadata": {},
     "output_type": "display_data"
    },
    {
     "name": "stdout",
     "output_type": "stream",
     "text": [
      "[0]\tvalidation_0-error:0.02746\tvalidation_0-logloss:0.51747\tvalidation_1-error:0.03063\tvalidation_1-logloss:0.51678\n",
      "[1]\tvalidation_0-error:0.01481\tvalidation_0-logloss:0.40425\tvalidation_1-error:0.01700\tvalidation_1-logloss:0.40460\n",
      "[2]\tvalidation_0-error:0.01545\tvalidation_0-logloss:0.32362\tvalidation_1-error:0.01588\tvalidation_1-logloss:0.32434\n",
      "[3]\tvalidation_0-error:0.01473\tvalidation_0-logloss:0.26291\tvalidation_1-error:0.01569\tvalidation_1-logloss:0.26423\n",
      "[4]\tvalidation_0-error:0.01177\tvalidation_0-logloss:0.21412\tvalidation_1-error:0.01326\tvalidation_1-logloss:0.21638\n",
      "[5]\tvalidation_0-error:0.01121\tvalidation_0-logloss:0.17710\tvalidation_1-error:0.01307\tvalidation_1-logloss:0.17966\n",
      "[6]\tvalidation_0-error:0.01081\tvalidation_0-logloss:0.14804\tvalidation_1-error:0.01307\tvalidation_1-logloss:0.15112\n",
      "[7]\tvalidation_0-error:0.01009\tvalidation_0-logloss:0.12489\tvalidation_1-error:0.01270\tvalidation_1-logloss:0.12833\n",
      "[8]\tvalidation_0-error:0.00969\tvalidation_0-logloss:0.10625\tvalidation_1-error:0.01195\tvalidation_1-logloss:0.10999\n",
      "[9]\tvalidation_0-error:0.00969\tvalidation_0-logloss:0.09106\tvalidation_1-error:0.01177\tvalidation_1-logloss:0.09481\n",
      "[10]\tvalidation_0-error:0.00857\tvalidation_0-logloss:0.07854\tvalidation_1-error:0.01065\tvalidation_1-logloss:0.08261\n",
      "[11]\tvalidation_0-error:0.00769\tvalidation_0-logloss:0.06819\tvalidation_1-error:0.01009\tvalidation_1-logloss:0.07281\n",
      "[12]\tvalidation_0-error:0.00785\tvalidation_0-logloss:0.06018\tvalidation_1-error:0.00971\tvalidation_1-logloss:0.06514\n",
      "[13]\tvalidation_0-error:0.00793\tvalidation_0-logloss:0.05335\tvalidation_1-error:0.00990\tvalidation_1-logloss:0.05813\n",
      "[14]\tvalidation_0-error:0.00753\tvalidation_0-logloss:0.04744\tvalidation_1-error:0.00971\tvalidation_1-logloss:0.05269\n",
      "[15]\tvalidation_0-error:0.00664\tvalidation_0-logloss:0.04223\tvalidation_1-error:0.00878\tvalidation_1-logloss:0.04788\n",
      "[16]\tvalidation_0-error:0.00608\tvalidation_0-logloss:0.03809\tvalidation_1-error:0.00784\tvalidation_1-logloss:0.04409\n",
      "[17]\tvalidation_0-error:0.00592\tvalidation_0-logloss:0.03475\tvalidation_1-error:0.00784\tvalidation_1-logloss:0.04115\n",
      "[18]\tvalidation_0-error:0.00576\tvalidation_0-logloss:0.03196\tvalidation_1-error:0.00747\tvalidation_1-logloss:0.03876\n",
      "[19]\tvalidation_0-error:0.00568\tvalidation_0-logloss:0.02972\tvalidation_1-error:0.00784\tvalidation_1-logloss:0.03671\n",
      "[20]\tvalidation_0-error:0.00504\tvalidation_0-logloss:0.02755\tvalidation_1-error:0.00747\tvalidation_1-logloss:0.03477\n",
      "[21]\tvalidation_0-error:0.00528\tvalidation_0-logloss:0.02574\tvalidation_1-error:0.00728\tvalidation_1-logloss:0.03328\n",
      "[22]\tvalidation_0-error:0.00496\tvalidation_0-logloss:0.02440\tvalidation_1-error:0.00728\tvalidation_1-logloss:0.03216\n",
      "[23]\tvalidation_0-error:0.00472\tvalidation_0-logloss:0.02290\tvalidation_1-error:0.00691\tvalidation_1-logloss:0.03074\n",
      "[24]\tvalidation_0-error:0.00472\tvalidation_0-logloss:0.02181\tvalidation_1-error:0.00672\tvalidation_1-logloss:0.03004\n",
      "[25]\tvalidation_0-error:0.00456\tvalidation_0-logloss:0.02088\tvalidation_1-error:0.00672\tvalidation_1-logloss:0.02945\n",
      "[26]\tvalidation_0-error:0.00464\tvalidation_0-logloss:0.01979\tvalidation_1-error:0.00672\tvalidation_1-logloss:0.02850\n",
      "[27]\tvalidation_0-error:0.00448\tvalidation_0-logloss:0.01915\tvalidation_1-error:0.00672\tvalidation_1-logloss:0.02819\n",
      "[28]\tvalidation_0-error:0.00440\tvalidation_0-logloss:0.01849\tvalidation_1-error:0.00672\tvalidation_1-logloss:0.02766\n",
      "[29]\tvalidation_0-error:0.00432\tvalidation_0-logloss:0.01784\tvalidation_1-error:0.00672\tvalidation_1-logloss:0.02728\n",
      "[30]\tvalidation_0-error:0.00384\tvalidation_0-logloss:0.01699\tvalidation_1-error:0.00654\tvalidation_1-logloss:0.02693\n",
      "[31]\tvalidation_0-error:0.00368\tvalidation_0-logloss:0.01632\tvalidation_1-error:0.00672\tvalidation_1-logloss:0.02649\n",
      "[32]\tvalidation_0-error:0.00344\tvalidation_0-logloss:0.01594\tvalidation_1-error:0.00654\tvalidation_1-logloss:0.02642\n",
      "[33]\tvalidation_0-error:0.00328\tvalidation_0-logloss:0.01513\tvalidation_1-error:0.00654\tvalidation_1-logloss:0.02551\n",
      "[34]\tvalidation_0-error:0.00336\tvalidation_0-logloss:0.01485\tvalidation_1-error:0.00654\tvalidation_1-logloss:0.02541\n",
      "[35]\tvalidation_0-error:0.00336\tvalidation_0-logloss:0.01452\tvalidation_1-error:0.00635\tvalidation_1-logloss:0.02507\n",
      "[36]\tvalidation_0-error:0.00320\tvalidation_0-logloss:0.01411\tvalidation_1-error:0.00635\tvalidation_1-logloss:0.02495\n",
      "[37]\tvalidation_0-error:0.00312\tvalidation_0-logloss:0.01375\tvalidation_1-error:0.00616\tvalidation_1-logloss:0.02491\n",
      "[38]\tvalidation_0-error:0.00304\tvalidation_0-logloss:0.01343\tvalidation_1-error:0.00616\tvalidation_1-logloss:0.02458\n",
      "[39]\tvalidation_0-error:0.00288\tvalidation_0-logloss:0.01297\tvalidation_1-error:0.00616\tvalidation_1-logloss:0.02445\n",
      "[40]\tvalidation_0-error:0.00272\tvalidation_0-logloss:0.01267\tvalidation_1-error:0.00616\tvalidation_1-logloss:0.02450\n",
      "[41]\tvalidation_0-error:0.00272\tvalidation_0-logloss:0.01227\tvalidation_1-error:0.00598\tvalidation_1-logloss:0.02419\n",
      "[42]\tvalidation_0-error:0.00272\tvalidation_0-logloss:0.01209\tvalidation_1-error:0.00579\tvalidation_1-logloss:0.02417\n",
      "[43]\tvalidation_0-error:0.00264\tvalidation_0-logloss:0.01197\tvalidation_1-error:0.00579\tvalidation_1-logloss:0.02418\n",
      "[44]\tvalidation_0-error:0.00256\tvalidation_0-logloss:0.01161\tvalidation_1-error:0.00616\tvalidation_1-logloss:0.02409\n",
      "[45]\tvalidation_0-error:0.00256\tvalidation_0-logloss:0.01134\tvalidation_1-error:0.00616\tvalidation_1-logloss:0.02409\n",
      "[46]\tvalidation_0-error:0.00256\tvalidation_0-logloss:0.01098\tvalidation_1-error:0.00579\tvalidation_1-logloss:0.02402\n",
      "[47]\tvalidation_0-error:0.00248\tvalidation_0-logloss:0.01077\tvalidation_1-error:0.00616\tvalidation_1-logloss:0.02398\n",
      "[48]\tvalidation_0-error:0.00248\tvalidation_0-logloss:0.01063\tvalidation_1-error:0.00598\tvalidation_1-logloss:0.02397\n",
      "[49]\tvalidation_0-error:0.00224\tvalidation_0-logloss:0.01021\tvalidation_1-error:0.00579\tvalidation_1-logloss:0.02383\n",
      "[50]\tvalidation_0-error:0.00216\tvalidation_0-logloss:0.00994\tvalidation_1-error:0.00579\tvalidation_1-logloss:0.02353\n",
      "[51]\tvalidation_0-error:0.00208\tvalidation_0-logloss:0.00970\tvalidation_1-error:0.00560\tvalidation_1-logloss:0.02356\n",
      "[52]\tvalidation_0-error:0.00208\tvalidation_0-logloss:0.00958\tvalidation_1-error:0.00579\tvalidation_1-logloss:0.02357\n",
      "[53]\tvalidation_0-error:0.00208\tvalidation_0-logloss:0.00949\tvalidation_1-error:0.00579\tvalidation_1-logloss:0.02353\n",
      "[54]\tvalidation_0-error:0.00208\tvalidation_0-logloss:0.00912\tvalidation_1-error:0.00579\tvalidation_1-logloss:0.02343\n",
      "[55]\tvalidation_0-error:0.00200\tvalidation_0-logloss:0.00899\tvalidation_1-error:0.00579\tvalidation_1-logloss:0.02351\n",
      "[56]\tvalidation_0-error:0.00192\tvalidation_0-logloss:0.00887\tvalidation_1-error:0.00579\tvalidation_1-logloss:0.02348\n",
      "[57]\tvalidation_0-error:0.00192\tvalidation_0-logloss:0.00872\tvalidation_1-error:0.00579\tvalidation_1-logloss:0.02344\n",
      "[58]\tvalidation_0-error:0.00168\tvalidation_0-logloss:0.00858\tvalidation_1-error:0.00560\tvalidation_1-logloss:0.02340\n",
      "[59]\tvalidation_0-error:0.00176\tvalidation_0-logloss:0.00833\tvalidation_1-error:0.00560\tvalidation_1-logloss:0.02316\n",
      "[60]\tvalidation_0-error:0.00176\tvalidation_0-logloss:0.00815\tvalidation_1-error:0.00579\tvalidation_1-logloss:0.02318\n",
      "[61]\tvalidation_0-error:0.00168\tvalidation_0-logloss:0.00809\tvalidation_1-error:0.00579\tvalidation_1-logloss:0.02322\n",
      "[62]\tvalidation_0-error:0.00168\tvalidation_0-logloss:0.00792\tvalidation_1-error:0.00579\tvalidation_1-logloss:0.02300\n",
      "[63]\tvalidation_0-error:0.00144\tvalidation_0-logloss:0.00765\tvalidation_1-error:0.00579\tvalidation_1-logloss:0.02286\n",
      "[64]\tvalidation_0-error:0.00136\tvalidation_0-logloss:0.00753\tvalidation_1-error:0.00560\tvalidation_1-logloss:0.02266\n",
      "[65]\tvalidation_0-error:0.00136\tvalidation_0-logloss:0.00732\tvalidation_1-error:0.00560\tvalidation_1-logloss:0.02249\n",
      "[66]\tvalidation_0-error:0.00136\tvalidation_0-logloss:0.00725\tvalidation_1-error:0.00560\tvalidation_1-logloss:0.02248\n",
      "[67]\tvalidation_0-error:0.00128\tvalidation_0-logloss:0.00704\tvalidation_1-error:0.00560\tvalidation_1-logloss:0.02251\n",
      "[68]\tvalidation_0-error:0.00112\tvalidation_0-logloss:0.00686\tvalidation_1-error:0.00560\tvalidation_1-logloss:0.02268\n",
      "[69]\tvalidation_0-error:0.00112\tvalidation_0-logloss:0.00680\tvalidation_1-error:0.00560\tvalidation_1-logloss:0.02271\n",
      "[70]\tvalidation_0-error:0.00112\tvalidation_0-logloss:0.00668\tvalidation_1-error:0.00560\tvalidation_1-logloss:0.02263\n",
      "[71]\tvalidation_0-error:0.00112\tvalidation_0-logloss:0.00658\tvalidation_1-error:0.00560\tvalidation_1-logloss:0.02258\n",
      "[72]\tvalidation_0-error:0.00096\tvalidation_0-logloss:0.00650\tvalidation_1-error:0.00542\tvalidation_1-logloss:0.02258\n",
      "[73]\tvalidation_0-error:0.00104\tvalidation_0-logloss:0.00638\tvalidation_1-error:0.00560\tvalidation_1-logloss:0.02263\n",
      "[74]\tvalidation_0-error:0.00088\tvalidation_0-logloss:0.00627\tvalidation_1-error:0.00560\tvalidation_1-logloss:0.02269\n",
      "[75]\tvalidation_0-error:0.00080\tvalidation_0-logloss:0.00617\tvalidation_1-error:0.00560\tvalidation_1-logloss:0.02278\n",
      "[76]\tvalidation_0-error:0.00080\tvalidation_0-logloss:0.00611\tvalidation_1-error:0.00560\tvalidation_1-logloss:0.02287\n",
      "[77]\tvalidation_0-error:0.00080\tvalidation_0-logloss:0.00604\tvalidation_1-error:0.00560\tvalidation_1-logloss:0.02294\n",
      "[78]\tvalidation_0-error:0.00072\tvalidation_0-logloss:0.00595\tvalidation_1-error:0.00560\tvalidation_1-logloss:0.02288\n",
      "[79]\tvalidation_0-error:0.00056\tvalidation_0-logloss:0.00586\tvalidation_1-error:0.00560\tvalidation_1-logloss:0.02295\n",
      "[80]\tvalidation_0-error:0.00080\tvalidation_0-logloss:0.00572\tvalidation_1-error:0.00560\tvalidation_1-logloss:0.02299\n",
      "[81]\tvalidation_0-error:0.00064\tvalidation_0-logloss:0.00565\tvalidation_1-error:0.00560\tvalidation_1-logloss:0.02294\n",
      "[82]\tvalidation_0-error:0.00056\tvalidation_0-logloss:0.00555\tvalidation_1-error:0.00560\tvalidation_1-logloss:0.02288\n",
      "[83]\tvalidation_0-error:0.00048\tvalidation_0-logloss:0.00552\tvalidation_1-error:0.00560\tvalidation_1-logloss:0.02293\n",
      "[84]\tvalidation_0-error:0.00040\tvalidation_0-logloss:0.00541\tvalidation_1-error:0.00560\tvalidation_1-logloss:0.02282\n",
      "[85]\tvalidation_0-error:0.00040\tvalidation_0-logloss:0.00532\tvalidation_1-error:0.00542\tvalidation_1-logloss:0.02267\n",
      "[86]\tvalidation_0-error:0.00040\tvalidation_0-logloss:0.00525\tvalidation_1-error:0.00542\tvalidation_1-logloss:0.02269\n",
      "[87]\tvalidation_0-error:0.00040\tvalidation_0-logloss:0.00520\tvalidation_1-error:0.00542\tvalidation_1-logloss:0.02272\n",
      "[88]\tvalidation_0-error:0.00024\tvalidation_0-logloss:0.00508\tvalidation_1-error:0.00523\tvalidation_1-logloss:0.02269\n",
      "[89]\tvalidation_0-error:0.00024\tvalidation_0-logloss:0.00499\tvalidation_1-error:0.00542\tvalidation_1-logloss:0.02270\n",
      "[90]\tvalidation_0-error:0.00024\tvalidation_0-logloss:0.00486\tvalidation_1-error:0.00542\tvalidation_1-logloss:0.02268\n",
      "[91]\tvalidation_0-error:0.00024\tvalidation_0-logloss:0.00483\tvalidation_1-error:0.00542\tvalidation_1-logloss:0.02272\n",
      "[92]\tvalidation_0-error:0.00032\tvalidation_0-logloss:0.00481\tvalidation_1-error:0.00542\tvalidation_1-logloss:0.02272\n",
      "[93]\tvalidation_0-error:0.00016\tvalidation_0-logloss:0.00474\tvalidation_1-error:0.00542\tvalidation_1-logloss:0.02281\n",
      "[94]\tvalidation_0-error:0.00016\tvalidation_0-logloss:0.00463\tvalidation_1-error:0.00542\tvalidation_1-logloss:0.02266\n",
      "[95]\tvalidation_0-error:0.00016\tvalidation_0-logloss:0.00453\tvalidation_1-error:0.00542\tvalidation_1-logloss:0.02267\n",
      "[96]\tvalidation_0-error:0.00008\tvalidation_0-logloss:0.00447\tvalidation_1-error:0.00542\tvalidation_1-logloss:0.02279\n",
      "[97]\tvalidation_0-error:0.00000\tvalidation_0-logloss:0.00440\tvalidation_1-error:0.00523\tvalidation_1-logloss:0.02265\n",
      "[98]\tvalidation_0-error:0.00000\tvalidation_0-logloss:0.00436\tvalidation_1-error:0.00523\tvalidation_1-logloss:0.02258\n",
      "[99]\tvalidation_0-error:0.00000\tvalidation_0-logloss:0.00432\tvalidation_1-error:0.00523\tvalidation_1-logloss:0.02257\n",
      "[100]\tvalidation_0-error:0.00000\tvalidation_0-logloss:0.00429\tvalidation_1-error:0.00523\tvalidation_1-logloss:0.02260\n",
      "[101]\tvalidation_0-error:0.00000\tvalidation_0-logloss:0.00423\tvalidation_1-error:0.00523\tvalidation_1-logloss:0.02261\n",
      "[102]\tvalidation_0-error:0.00000\tvalidation_0-logloss:0.00420\tvalidation_1-error:0.00523\tvalidation_1-logloss:0.02258\n",
      "[103]\tvalidation_0-error:0.00000\tvalidation_0-logloss:0.00417\tvalidation_1-error:0.00523\tvalidation_1-logloss:0.02257\n",
      "[104]\tvalidation_0-error:0.00000\tvalidation_0-logloss:0.00412\tvalidation_1-error:0.00523\tvalidation_1-logloss:0.02256\n",
      "[105]\tvalidation_0-error:0.00000\tvalidation_0-logloss:0.00406\tvalidation_1-error:0.00523\tvalidation_1-logloss:0.02262\n",
      "[106]\tvalidation_0-error:0.00000\tvalidation_0-logloss:0.00401\tvalidation_1-error:0.00523\tvalidation_1-logloss:0.02267\n",
      "[107]\tvalidation_0-error:0.00000\tvalidation_0-logloss:0.00398\tvalidation_1-error:0.00523\tvalidation_1-logloss:0.02269\n",
      "[108]\tvalidation_0-error:0.00000\tvalidation_0-logloss:0.00393\tvalidation_1-error:0.00523\tvalidation_1-logloss:0.02276\n",
      "[109]\tvalidation_0-error:0.00000\tvalidation_0-logloss:0.00390\tvalidation_1-error:0.00523\tvalidation_1-logloss:0.02277\n",
      "[110]\tvalidation_0-error:0.00000\tvalidation_0-logloss:0.00388\tvalidation_1-error:0.00523\tvalidation_1-logloss:0.02280\n",
      "[111]\tvalidation_0-error:0.00000\tvalidation_0-logloss:0.00383\tvalidation_1-error:0.00542\tvalidation_1-logloss:0.02290\n",
      "[112]\tvalidation_0-error:0.00000\tvalidation_0-logloss:0.00379\tvalidation_1-error:0.00523\tvalidation_1-logloss:0.02290\n",
      "[113]\tvalidation_0-error:0.00000\tvalidation_0-logloss:0.00374\tvalidation_1-error:0.00523\tvalidation_1-logloss:0.02286\n",
      "[114]\tvalidation_0-error:0.00000\tvalidation_0-logloss:0.00371\tvalidation_1-error:0.00523\tvalidation_1-logloss:0.02286\n",
      "[115]\tvalidation_0-error:0.00000\tvalidation_0-logloss:0.00367\tvalidation_1-error:0.00523\tvalidation_1-logloss:0.02295\n",
      "[116]\tvalidation_0-error:0.00000\tvalidation_0-logloss:0.00364\tvalidation_1-error:0.00523\tvalidation_1-logloss:0.02297\n",
      "[117]\tvalidation_0-error:0.00000\tvalidation_0-logloss:0.00361\tvalidation_1-error:0.00523\tvalidation_1-logloss:0.02293\n",
      "[118]\tvalidation_0-error:0.00000\tvalidation_0-logloss:0.00358\tvalidation_1-error:0.00523\tvalidation_1-logloss:0.02291\n",
      "[119]\tvalidation_0-error:0.00000\tvalidation_0-logloss:0.00354\tvalidation_1-error:0.00523\tvalidation_1-logloss:0.02292\n",
      "[120]\tvalidation_0-error:0.00000\tvalidation_0-logloss:0.00351\tvalidation_1-error:0.00523\tvalidation_1-logloss:0.02289\n",
      "[121]\tvalidation_0-error:0.00000\tvalidation_0-logloss:0.00345\tvalidation_1-error:0.00542\tvalidation_1-logloss:0.02288\n",
      "[122]\tvalidation_0-error:0.00000\tvalidation_0-logloss:0.00342\tvalidation_1-error:0.00542\tvalidation_1-logloss:0.02293\n",
      "[123]\tvalidation_0-error:0.00000\tvalidation_0-logloss:0.00337\tvalidation_1-error:0.00542\tvalidation_1-logloss:0.02292\n",
      "[124]\tvalidation_0-error:0.00000\tvalidation_0-logloss:0.00335\tvalidation_1-error:0.00542\tvalidation_1-logloss:0.02296\n",
      "[125]\tvalidation_0-error:0.00000\tvalidation_0-logloss:0.00331\tvalidation_1-error:0.00542\tvalidation_1-logloss:0.02284\n",
      "[126]\tvalidation_0-error:0.00000\tvalidation_0-logloss:0.00327\tvalidation_1-error:0.00542\tvalidation_1-logloss:0.02294\n",
      "[127]\tvalidation_0-error:0.00000\tvalidation_0-logloss:0.00324\tvalidation_1-error:0.00542\tvalidation_1-logloss:0.02303\n",
      "[128]\tvalidation_0-error:0.00000\tvalidation_0-logloss:0.00320\tvalidation_1-error:0.00523\tvalidation_1-logloss:0.02300\n",
      "[129]\tvalidation_0-error:0.00000\tvalidation_0-logloss:0.00316\tvalidation_1-error:0.00542\tvalidation_1-logloss:0.02291\n",
      "[130]\tvalidation_0-error:0.00000\tvalidation_0-logloss:0.00313\tvalidation_1-error:0.00542\tvalidation_1-logloss:0.02296\n",
      "[131]\tvalidation_0-error:0.00000\tvalidation_0-logloss:0.00310\tvalidation_1-error:0.00542\tvalidation_1-logloss:0.02295\n",
      "[132]\tvalidation_0-error:0.00000\tvalidation_0-logloss:0.00308\tvalidation_1-error:0.00560\tvalidation_1-logloss:0.02300\n",
      "[133]\tvalidation_0-error:0.00000\tvalidation_0-logloss:0.00306\tvalidation_1-error:0.00560\tvalidation_1-logloss:0.02305\n",
      "[134]\tvalidation_0-error:0.00000\tvalidation_0-logloss:0.00305\tvalidation_1-error:0.00542\tvalidation_1-logloss:0.02304\n",
      "[135]\tvalidation_0-error:0.00000\tvalidation_0-logloss:0.00302\tvalidation_1-error:0.00542\tvalidation_1-logloss:0.02308\n",
      "[136]\tvalidation_0-error:0.00000\tvalidation_0-logloss:0.00299\tvalidation_1-error:0.00542\tvalidation_1-logloss:0.02313\n",
      "[137]\tvalidation_0-error:0.00000\tvalidation_0-logloss:0.00296\tvalidation_1-error:0.00542\tvalidation_1-logloss:0.02316\n",
      "[138]\tvalidation_0-error:0.00000\tvalidation_0-logloss:0.00294\tvalidation_1-error:0.00542\tvalidation_1-logloss:0.02313\n",
      "[139]\tvalidation_0-error:0.00000\tvalidation_0-logloss:0.00292\tvalidation_1-error:0.00542\tvalidation_1-logloss:0.02310\n",
      "[140]\tvalidation_0-error:0.00000\tvalidation_0-logloss:0.00289\tvalidation_1-error:0.00542\tvalidation_1-logloss:0.02310\n",
      "[141]\tvalidation_0-error:0.00000\tvalidation_0-logloss:0.00286\tvalidation_1-error:0.00542\tvalidation_1-logloss:0.02313\n",
      "[142]\tvalidation_0-error:0.00000\tvalidation_0-logloss:0.00284\tvalidation_1-error:0.00542\tvalidation_1-logloss:0.02312\n",
      "[143]\tvalidation_0-error:0.00000\tvalidation_0-logloss:0.00281\tvalidation_1-error:0.00542\tvalidation_1-logloss:0.02310\n",
      "[144]\tvalidation_0-error:0.00000\tvalidation_0-logloss:0.00279\tvalidation_1-error:0.00542\tvalidation_1-logloss:0.02316\n",
      "[145]\tvalidation_0-error:0.00000\tvalidation_0-logloss:0.00277\tvalidation_1-error:0.00542\tvalidation_1-logloss:0.02315\n",
      "[146]\tvalidation_0-error:0.00000\tvalidation_0-logloss:0.00276\tvalidation_1-error:0.00542\tvalidation_1-logloss:0.02320\n",
      "[147]\tvalidation_0-error:0.00000\tvalidation_0-logloss:0.00274\tvalidation_1-error:0.00542\tvalidation_1-logloss:0.02320\n",
      "[148]\tvalidation_0-error:0.00000\tvalidation_0-logloss:0.00272\tvalidation_1-error:0.00542\tvalidation_1-logloss:0.02320\n",
      "[149]\tvalidation_0-error:0.00000\tvalidation_0-logloss:0.00270\tvalidation_1-error:0.00542\tvalidation_1-logloss:0.02318\n"
     ]
    },
    {
     "data": {
      "image/png": "[encoded data removed]",
      "text/plain": [
       "<Figure size 1000x500 with 1 Axes>"
      ]
     },
     "metadata": {},
     "output_type": "display_data"
    }
   ],
   "source": [
    "# Train XGBoost model\n",
    "best_xgb_model, best_xgb_params = train_xgb_classifier(df_train, 'isFraud')\n",
    "\n",
    "# Plotting Training vs Validation Error for XGBoost\n",
    "def plot_training_vs_validation_error(model, X_train, y_train, X_val, y_val):\n",
    "    eval_set = [(X_train, y_train), (X_val, y_val)]\n",
    "    model.fit(X_train, y_train, eval_set=eval_set, eval_metric=[\"error\", \"logloss\"], verbose=True)\n",
    "    results = model.evals_result()\n",
    "    epochs = len(results['validation_0']['error'])\n",
    "    x_axis = range(0, epochs)\n",
    "\n",
    "    plt.figure(figsize=(10, 5))\n",
    "    plt.plot(x_axis, results['validation_0']['error'], label='Train')\n",
    "    plt.plot(x_axis, results['validation_1']['error'], label='Validation')\n",
    "    plt.legend()\n",
    "    plt.ylabel('Error')\n",
    "    plt.xlabel('Number of trees')\n",
    "    plt.title('XGBoost Training vs Validation Error')\n",
    "    plt.show()\n",
    "\n",
    "# Plotting Training vs Validation Error for XGBoost model\n",
    "plot_training_vs_validation_error(best_xgb_model, X_train, y_train, X_test, y_test)"
   ]
  },
  {
   "cell_type": "code",
   "execution_count": null,
   "id": "80cd5bed",
   "metadata": {},
   "outputs": [],
   "source": []
  },
  {
   "cell_type": "code",
   "execution_count": null,
   "id": "9b1cec87",
   "metadata": {},
   "outputs": [],
   "source": []
  }
 ],
 "metadata": {
  "kernelspec": {
   "display_name": "Python 3 (ipykernel)",
   "language": "python",
   "name": "python3"
  },
  "language_info": {
   "codemirror_mode": {
    "name": "ipython",
    "version": 3
   },
   "file_extension": ".py",
   "mimetype": "text/x-python",
   "name": "python",
   "nbconvert_exporter": "python",
   "pygments_lexer": "ipython3",
   "version": "3.11.5"
  }
 },
 "nbformat": 4,
 "nbformat_minor": 5
}
